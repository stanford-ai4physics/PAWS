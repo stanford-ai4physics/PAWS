{
 "cells": [
  {
   "cell_type": "markdown",
   "id": "56cea908-484d-47c8-a108-77a208ad1baa",
   "metadata": {},
   "source": [
    "# Toy Studies\n",
    "\n",
    "Application of the PAWS method on analytic distributions and pseudo datasets"
   ]
  },
  {
   "cell_type": "markdown",
   "id": "bbfc0bbb-9d0a-4055-9276-6a301286e39f",
   "metadata": {},
   "source": [
    "## Part I - Formulation"
   ]
  },
  {
   "cell_type": "markdown",
   "id": "d653046c-6528-4efc-953c-e64c1757566e",
   "metadata": {},
   "source": [
    "Given the feature vectors $\\vec{x}$ and the physics parameters $\\theta$, the output the supervised classifier approximates the posterior probability of signal ($y = 1$):\n",
    "\n",
    "$$f_{\\text{FS}}(\\vec{x}, \\theta) \\approx \\frac{P_S(\\vec{x}|\\theta)P_S(\\theta)}{P_S(\\vec{x}|\\theta)P_S(\\theta) + P_B(\\vec{x}|\\theta)P_B(\\theta)}$$\n",
    "\n",
    "where $S$ = Signal ($y = 1$) and $B$ = Background ($y = 0$).\n",
    "\n",
    "It is related to the likelihood ratio by\n",
    "\n",
    "$$\\Lambda_{\\text{FS}}(\\vec{x}, \\theta) \\equiv \\frac{P_S(\\vec{x}|\\theta)}{P_b(\\vec{x}|\\theta)} = \\kappa(\\theta) \\frac{f_{\\text{FS}}(\\vec{x}, \\theta)}{1 - f_{\\text{FS}}(\\vec{x}, \\theta)}$$\n",
    "\n",
    "where $\\kappa(\\theta) \\equiv P_B(\\theta) / P_S(\\theta)$  is the prior ratio between background and signal\n",
    "\n",
    "Similarly for the weakly supervised model:\n",
    "\n",
    "$$f_{\\text{WS}}(\\vec{x}, \\theta) = \\frac{P_D(\\vec{x}|\\theta)P_D(\\theta)}{P_D(\\vec{x}|\\theta)P_D(\\theta) + P_R(\\vec{x}|\\theta)P_R(\\theta)}$$\n",
    "\n",
    "where $D$ = Data and $R$ = Reference (= Background).\n",
    "\n",
    "Observe that when $\\theta = \\hat{\\theta}$ the data densities can be expressed in terms of the signal and background densities:\n",
    "\n",
    "$$P_D(\\vec{x}) = \\mu P_S(\\vec{x}) + (1 - \\mu) P_B(\\vec{x})$$\n",
    "\n",
    "The prior probabilities of data $P_D$ and reference $P_R$ can be related by:\n",
    "\n",
    "$$P_D = P_S + P_B = \\frac{\\mu}{1 - \\mu} P_R + P_R = \\frac{1}{1 - \\mu} P_R$$\n",
    "\n",
    "Expanding terms gives:\n",
    "\n",
    "$$f_{\\text{WS}}(\\vec{x}, \\theta) = \\dfrac{\\mu\\kappa(\\theta)\\dfrac{f_{\\text{FS}}(\\vec{x}, \\theta)}{1 - f_{\\text{FS}}(\\vec{x}, \\theta)} + (1 - \\mu)}{\\mu\\kappa(\\theta)\\dfrac{f_{\\text{FS}}(\\vec{x}, \\theta)}{1 - f_{\\text{FS}}(\\vec{x}, \\theta)} + 2(1-\\mu)} = \\dfrac{\\mu\\Lambda_{\\text{FS}}(\\vec{x}, \\theta) + (1 - \\mu)}{\\mu\\Lambda_{\\text{FS}}(\\vec{x}, \\theta) + 2(1-\\mu)}$$"
   ]
  },
  {
   "cell_type": "markdown",
   "id": "1e838742-413f-45e3-88d6-2dabd056b7b0",
   "metadata": {},
   "source": [
    "## Part II - Demonstration"
   ]
  },
  {
   "cell_type": "code",
   "execution_count": 1,
   "id": "cc595f58-16df-4f71-87a1-1c2a00f2e6d5",
   "metadata": {},
   "outputs": [],
   "source": [
    "import sys\n",
    "from collections import defaultdict\n",
    "from itertools import repeat\n",
    "from concurrent.futures import ProcessPoolExecutor\n",
    "\n",
    "import numpy as np\n",
    "import matplotlib.pyplot as plt\n",
    "\n",
    "from scipy.stats import multivariate_normal, expon\n",
    "from scipy.optimize import minimize, minimize_scalar"
   ]
  },
  {
   "cell_type": "code",
   "execution_count": 2,
   "id": "015c096b-f9fd-46cd-b851-06bcea95669b",
   "metadata": {},
   "outputs": [],
   "source": [
    "def get_R(model_B, N_B, seed=None):\n",
    "    random_state = np.random.RandomState(seed) if seed is not None else None\n",
    "    return model_B.rvs(size=N_B, random_state=random_state)\n",
    "\n",
    "def get_D(model_S, model_B, N_B, mu_inj, seed=None):\n",
    "    N_S = int(mu_inj / (1 - mu_inj) * N_B)\n",
    "    random_state = np.random.RandomState(seed + 1) if seed is not None else None\n",
    "    return np.concatenate([model_S.rvs(size=N_S, random_state=random_state),\n",
    "                           model_B.rvs(size=N_B, random_state=random_state)])\n",
    "\n",
    "def get_pS_over_pB(x, model_S, model_B):\n",
    "    return model_S.pdf(x) / model_B.pdf(x)\n",
    "\n",
    "def get_FS(x, model_S, model_B):\n",
    "    pS_over_pB = get_pS_over_pB(x, model_S, model_B)\n",
    "    return pS_over_pB / (1 - pS_over_pB)\n",
    "\n",
    "def get_WS(x, mu, model_S, model_B):\n",
    "    pS_over_pB = get_pS_over_pB(x, model_S, model_B)\n",
    "    return (mu * pS_over_pB + 1 - mu) / (mu * pS_over_pB + 2 - 2 * mu)\n",
    "\n",
    "def get_BCE(x, y, mu, model_S, model_B):\n",
    "    WS = get_WS(x, mu, model_S, model_B)\n",
    "    overflow = (1 - WS) <= 0.\n",
    "    underflow = WS <= 0.\n",
    "    WS[overflow] = 1 - 1e-6\n",
    "    WS[underflow] = 1e-6\n",
    "    return - y * np.log(WS) - (1. - y) * np.log(1. - WS )\n",
    "\n",
    "def get_total_loss(D, R, mu, model_S, model_B):\n",
    "    y = np.concatenate([np.ones(D.shape[0]), np.zeros(R.shape[0])])\n",
    "    x = np.concatenate([D, R])\n",
    "    return np.mean(get_BCE(x, y, mu, model_S, model_B))\n",
    "\n",
    "def get_loss_over_mu(D, R, mu_list, model_S, model_B):\n",
    "    data = []\n",
    "    for mu in mu_list:\n",
    "        data.append({\n",
    "            'mu': mu,\n",
    "            'loss': get_total_loss(D, R, mu, model_S, model_B)\n",
    "        })\n",
    "    return data\n",
    "\n",
    "def run_trial(mu, trial, N_B, model_S, model_B):\n",
    "    sys.stdout.write(f'Running trial {trial + 1} with mu = {mu}\\n')\n",
    "    R = get_R(model_B, N_B, seed=trial)\n",
    "    D = get_D(model_S, model_B, N_B, mu, seed=trial)\n",
    "    func = lambda x : get_total_loss(D, R, x, model_S, model_B)\n",
    "    #func = lambda x : np.mean(get_BCE(D, 1 , x, model_S, model_B)) + np.mean(get_BCE(R, 0 , x, model_S, model_B))\n",
    "    res = minimize_scalar(func, bounds=(1e-6, 1 - 1e-6), tol=1e-6)\n",
    "    mu_hat = res.x\n",
    "    return [mu, mu_hat]\n",
    "\n",
    "def scan_mu_hat(mu_list, N_B, N_trial, model_S, model_B, max_workers=None):\n",
    "    mu_args = np.repeat(mu_list, N_trial)\n",
    "    trial_args = np.tile(np.arange(N_trial), len(mu_args))\n",
    "    outputs = []\n",
    "    if max_workers == 0:\n",
    "        for mu, trial in zip(mu_args, trial_args):\n",
    "            outputs.append(run_trial(mu, trial, N_B, model_S, model_B))\n",
    "    else:\n",
    "        with ProcessPoolExecutor(max_workers=max_workers) as executor:\n",
    "            outputs = list(executor.map(run_trial, mu_args, trial_args, repeat(N_B), repeat(model_S), repeat(model_B)))\n",
    "    outputs = np.array(outputs)\n",
    "    result = defaultdict(list)\n",
    "    for output in outputs:\n",
    "        result[output[0]].append(output[1])\n",
    "    return result\n",
    "\n",
    "def create_mu_plot(mu_hats, title: str = ''):\n",
    "    mu_trues = np.array(list(mu_hats))\n",
    "    mu_hats = np.array([values for values in mu_hats.values()])\n",
    "    mu_mean = np.mean(mu_hats, axis=1)\n",
    "    mu_std = np.std(mu_hats, axis=1)\n",
    "    plt.fill_between(mu_trues, mu_mean - mu_std, mu_mean + mu_std, alpha=0.2)\n",
    "    plt.plot(mu_trues, mu_mean)\n",
    "    plt.plot(mu_trues, mu_trues, linestyle=\":\", color=\"gray\")\n",
    "    plt.xscale(\"log\")\n",
    "    plt.yscale(\"log\")\n",
    "    plt.xlabel(\"True $\\mu$\")\n",
    "    plt.ylabel(\"Fitted $\\mu$\")\n",
    "    plt.title(title)\n",
    "    plt.show()"
   ]
  },
  {
   "cell_type": "markdown",
   "id": "81a76bf8-f17f-497a-9aa3-b3197ba43648",
   "metadata": {},
   "source": [
    "### Analytic Distributions - 1D Gaussian"
   ]
  },
  {
   "cell_type": "code",
   "execution_count": 3,
   "id": "40e9fe02-bb9f-4275-807b-720507a63255",
   "metadata": {
    "scrolled": true
   },
   "outputs": [
    {
     "name": "stdout",
     "output_type": "stream",
     "text": [
      "Running trial 1 with mu = 0.01\n",
      "Running trial 3 with mu = 0.01\n",
      "Running trial 2 with mu = 0.01\n",
      "Running trial 4 with mu = 0.01\n",
      "Running trial 5 with mu = 0.01\n",
      "Running trial 6 with mu = 0.01\n",
      "Running trial 7 with mu = 0.01\n",
      "Running trial 8 with mu = 0.01\n",
      "Running trial 9 with mu = 0.01\n",
      "Running trial 10 with mu = 0.01\n",
      "Running trial 1 with mu = 0.015448591479026755\n",
      "Running trial 2 with mu = 0.015448591479026755\n",
      "Running trial 3 with mu = 0.015448591479026755\n",
      "Running trial 4 with mu = 0.015448591479026755\n",
      "Running trial 5 with mu = 0.015448591479026755\n",
      "Running trial 10 with mu = 0.015448591479026755\n",
      "Running trial 9 with mu = 0.015448591479026755\n",
      "Running trial 2 with mu = 0.023865897868585808\n",
      "Running trial 7 with mu = 0.015448591479026755\n",
      "Running trial 4 with mu = 0.023865897868585808\n",
      "Running trial 1 with mu = 0.023865897868585808\n",
      "Running trial 3 with mu = 0.023865897868585808\n",
      "Running trial 8 with mu = 0.015448591479026755\n",
      "Running trial 5 with mu = 0.023865897868585808\n",
      "Running trial 6 with mu = 0.015448591479026755\n"
     ]
    },
    {
     "name": "stderr",
     "output_type": "stream",
     "text": [
      "/tmp/ipykernel_174446/909118199.py:50: RuntimeWarning: Method 'bounded' does not support relative tolerance in x; defaulting to absolute tolerance.\n",
      "  res = minimize_scalar(func, bounds=(1e-6, 1 - 1e-6), tol=1e-6)\n",
      "/tmp/ipykernel_174446/909118199.py:50: RuntimeWarning: Method 'bounded' does not support relative tolerance in x; defaulting to absolute tolerance.\n",
      "  res = minimize_scalar(func, bounds=(1e-6, 1 - 1e-6), tol=1e-6)\n",
      "/tmp/ipykernel_174446/909118199.py:50: RuntimeWarning: Method 'bounded' does not support relative tolerance in x; defaulting to absolute tolerance.\n",
      "  res = minimize_scalar(func, bounds=(1e-6, 1 - 1e-6), tol=1e-6)\n",
      "/tmp/ipykernel_174446/909118199.py:50: RuntimeWarning: Method 'bounded' does not support relative tolerance in x; defaulting to absolute tolerance.\n",
      "  res = minimize_scalar(func, bounds=(1e-6, 1 - 1e-6), tol=1e-6)\n",
      "/tmp/ipykernel_174446/909118199.py:50: RuntimeWarning: Method 'bounded' does not support relative tolerance in x; defaulting to absolute tolerance.\n",
      "  res = minimize_scalar(func, bounds=(1e-6, 1 - 1e-6), tol=1e-6)\n",
      "/tmp/ipykernel_174446/909118199.py:50: RuntimeWarning: Method 'bounded' does not support relative tolerance in x; defaulting to absolute tolerance.\n",
      "  res = minimize_scalar(func, bounds=(1e-6, 1 - 1e-6), tol=1e-6)\n",
      "/tmp/ipykernel_174446/909118199.py:50: RuntimeWarning: Method 'bounded' does not support relative tolerance in x; defaulting to absolute tolerance.\n",
      "  res = minimize_scalar(func, bounds=(1e-6, 1 - 1e-6), tol=1e-6)\n",
      "/tmp/ipykernel_174446/909118199.py:50: RuntimeWarning: Method 'bounded' does not support relative tolerance in x; defaulting to absolute tolerance.\n",
      "  res = minimize_scalar(func, bounds=(1e-6, 1 - 1e-6), tol=1e-6)\n",
      "/tmp/ipykernel_174446/909118199.py:50: RuntimeWarning: Method 'bounded' does not support relative tolerance in x; defaulting to absolute tolerance.\n",
      "  res = minimize_scalar(func, bounds=(1e-6, 1 - 1e-6), tol=1e-6)\n",
      "/tmp/ipykernel_174446/909118199.py:50: RuntimeWarning: Method 'bounded' does not support relative tolerance in x; defaulting to absolute tolerance.\n",
      "  res = minimize_scalar(func, bounds=(1e-6, 1 - 1e-6), tol=1e-6)\n",
      "/tmp/ipykernel_174446/909118199.py:50: RuntimeWarning: Method 'bounded' does not support relative tolerance in x; defaulting to absolute tolerance.\n",
      "  res = minimize_scalar(func, bounds=(1e-6, 1 - 1e-6), tol=1e-6)\n",
      "/tmp/ipykernel_174446/909118199.py:50: RuntimeWarning: Method 'bounded' does not support relative tolerance in x; defaulting to absolute tolerance.\n",
      "  res = minimize_scalar(func, bounds=(1e-6, 1 - 1e-6), tol=1e-6)\n",
      "/tmp/ipykernel_174446/909118199.py:50: RuntimeWarning: Method 'bounded' does not support relative tolerance in x; defaulting to absolute tolerance.\n",
      "  res = minimize_scalar(func, bounds=(1e-6, 1 - 1e-6), tol=1e-6)\n",
      "/tmp/ipykernel_174446/909118199.py:50: RuntimeWarning: Method 'bounded' does not support relative tolerance in x; defaulting to absolute tolerance.\n",
      "  res = minimize_scalar(func, bounds=(1e-6, 1 - 1e-6), tol=1e-6)\n",
      "/tmp/ipykernel_174446/909118199.py:50: RuntimeWarning: Method 'bounded' does not support relative tolerance in x; defaulting to absolute tolerance.\n",
      "  res = minimize_scalar(func, bounds=(1e-6, 1 - 1e-6), tol=1e-6)\n",
      "/tmp/ipykernel_174446/909118199.py:50: RuntimeWarning: Method 'bounded' does not support relative tolerance in x; defaulting to absolute tolerance.\n",
      "  res = minimize_scalar(func, bounds=(1e-6, 1 - 1e-6), tol=1e-6)\n",
      "/tmp/ipykernel_174446/909118199.py:50: RuntimeWarning: Method 'bounded' does not support relative tolerance in x; defaulting to absolute tolerance.\n",
      "  res = minimize_scalar(func, bounds=(1e-6, 1 - 1e-6), tol=1e-6)\n",
      "/tmp/ipykernel_174446/909118199.py:50: RuntimeWarning: Method 'bounded' does not support relative tolerance in x; defaulting to absolute tolerance.\n",
      "  res = minimize_scalar(func, bounds=(1e-6, 1 - 1e-6), tol=1e-6)\n",
      "/tmp/ipykernel_174446/909118199.py:50: RuntimeWarning: Method 'bounded' does not support relative tolerance in x; defaulting to absolute tolerance.\n",
      "  res = minimize_scalar(func, bounds=(1e-6, 1 - 1e-6), tol=1e-6)\n",
      "/tmp/ipykernel_174446/909118199.py:50: RuntimeWarning: Method 'bounded' does not support relative tolerance in x; defaulting to absolute tolerance.\n",
      "  res = minimize_scalar(func, bounds=(1e-6, 1 - 1e-6), tol=1e-6)\n",
      "/tmp/ipykernel_174446/909118199.py:50: RuntimeWarning: Method 'bounded' does not support relative tolerance in x; defaulting to absolute tolerance.\n",
      "  res = minimize_scalar(func, bounds=(1e-6, 1 - 1e-6), tol=1e-6)\n",
      "/tmp/ipykernel_174446/909118199.py:50: RuntimeWarning: Method 'bounded' does not support relative tolerance in x; defaulting to absolute tolerance.\n",
      "  res = minimize_scalar(func, bounds=(1e-6, 1 - 1e-6), tol=1e-6)\n",
      "/tmp/ipykernel_174446/909118199.py:50: RuntimeWarning: Method 'bounded' does not support relative tolerance in x; defaulting to absolute tolerance.\n",
      "  res = minimize_scalar(func, bounds=(1e-6, 1 - 1e-6), tol=1e-6)\n",
      "/tmp/ipykernel_174446/909118199.py:50: RuntimeWarning: Method 'bounded' does not support relative tolerance in x; defaulting to absolute tolerance.\n",
      "  res = minimize_scalar(func, bounds=(1e-6, 1 - 1e-6), tol=1e-6)\n",
      "/tmp/ipykernel_174446/909118199.py:50: RuntimeWarning: Method 'bounded' does not support relative tolerance in x; defaulting to absolute tolerance.\n",
      "  res = minimize_scalar(func, bounds=(1e-6, 1 - 1e-6), tol=1e-6)\n"
     ]
    },
    {
     "name": "stdout",
     "output_type": "stream",
     "text": [
      "Running trial 6 with mu = 0.023865897868585808\n",
      "Running trial 7 with mu = 0.023865897868585808\n",
      "Running trial 8 with mu = 0.023865897868585808\n",
      "Running trial 9 with mu = 0.023865897868585808\n",
      "Running trial 10 with mu = 0.023865897868585808\n",
      "Running trial 2 with mu = 0.036869450645195756\n",
      "Running trial 3 with mu = 0.036869450645195756\n",
      "Running trial 4 with mu = 0.036869450645195756\n",
      "Running trial 1 with mu = 0.036869450645195756\n",
      "Running trial 7 with mu = 0.036869450645195756\n",
      "Running trial 5 with mu = 0.036869450645195756\n",
      "Running trial 6 with mu = 0.036869450645195756\n",
      "Running trial 10 with mu = 0.036869450645195756\n",
      "Running trial 9 with mu = 0.036869450645195756\n",
      "Running trial 1 with mu = 0.056958108107376865\n",
      "Running trial 8 with mu = 0.036869450645195756\n",
      "Running trial 2 with mu = 0.056958108107376865\n",
      "Running trial 5 with mu = 0.056958108107376865\n",
      "Running trial 4 with mu = 0.056958108107376865\n",
      "Running trial 7 with mu = 0.056958108107376865\n",
      "Running trial 6 with mu = 0.056958108107376865\n",
      "Running trial 8 with mu = 0.056958108107376865\n",
      "Running trial 9 with mu = 0.056958108107376865\n",
      "Running trial 3 with mu = 0.056958108107376865\n",
      "Running trial 10 with mu = 0.056958108107376865\n",
      "Running trial 1 with mu = 0.0879922543569107\n",
      "Running trial 2 with mu = 0.0879922543569107\n",
      "Running trial 3 with mu = 0.0879922543569107\n",
      "Running trial 4 with mu = 0.0879922543569107\n",
      "Running trial 5 with mu = 0.0879922543569107\n",
      "Running trial 6 with mu = 0.0879922543569107\n",
      "Running trial 7 with mu = 0.0879922543569107\n",
      "Running trial 8 with mu = 0.0879922543569107\n",
      "Running trial 9 with mu = 0.0879922543569107\n",
      "Running trial 1 with mu = 0.13593563908785256\n",
      "Running trial 10 with mu = 0.0879922543569107\n",
      "Running trial 2 with mu = 0.13593563908785256\n",
      "Running trial 3 with mu = 0.13593563908785256\n",
      "Running trial 4 with mu = 0.13593563908785256\n",
      "Running trial 5 with mu = 0.13593563908785256\n",
      "Running trial 7 with mu = 0.13593563908785256\n",
      "Running trial 6 with mu = 0.13593563908785256\n",
      "Running trial 8 with mu = 0.13593563908785256\n",
      "Running trial 9 with mu = 0.13593563908785256\n",
      "Running trial 10 with mu = 0.13593563908785256\n",
      "Running trial 1 with mu = 0.21000141557086555\n",
      "Running trial 2 with mu = 0.21000141557086555\n",
      "Running trial 3 with mu = 0.21000141557086555\n",
      "Running trial 4 with mu = 0.21000141557086555\n",
      "Running trial 5 with mu = 0.21000141557086555\n",
      "Running trial 6 with mu = 0.21000141557086555\n",
      "Running trial 7 with mu = 0.21000141557086555\n",
      "Running trial 8 with mu = 0.21000141557086555\n",
      "Running trial 9 with mu = 0.21000141557086555\n",
      "Running trial 10 with mu = 0.21000141557086555\n",
      "Running trial 1 with mu = 0.324422607917163\n",
      "Running trial 2 with mu = 0.324422607917163\n",
      "Running trial 3 with mu = 0.324422607917163\n",
      "Running trial 5 with mu = 0.324422607917163\n",
      "Running trial 6 with mu = 0.324422607917163\n",
      "Running trial 7 with mu = 0.324422607917163\n",
      "Running trial 8 with mu = 0.324422607917163\n",
      "Running trial 4 with mu = 0.324422607917163\n",
      "Running trial 10 with mu = 0.324422607917163\n",
      "Running trial 9 with mu = 0.324422607917163\n",
      "Running trial 1 with mu = 0.5011872336272722\n",
      "Running trial 2 with mu = 0.5011872336272722\n",
      "Running trial 3 with mu = 0.5011872336272722\n",
      "Running trial 4 with mu = 0.5011872336272722\n",
      "Running trial 5 with mu = 0.5011872336272722\n",
      "Running trial 6 with mu = 0.5011872336272722\n",
      "Running trial 7 with mu = 0.5011872336272722\n",
      "Running trial 8 with mu = 0.5011872336272722\n",
      "Running trial 9 with mu = 0.5011872336272722\n",
      "Running trial 10 with mu = 0.5011872336272722\n"
     ]
    }
   ],
   "source": [
    "mu_inj_list = np.logspace(-2, -0.3, 10)\n",
    "N_trial = 10\n",
    "N_B = 100000\n",
    "seed = 2024\n",
    "\n",
    "mu_S = 3\n",
    "mu_B = 6\n",
    "sigma = 1\n",
    "\n",
    "model_S = multivariate_normal(mean=mu_S, cov=sigma, seed=seed)\n",
    "model_B = multivariate_normal(mean=mu_B, cov=sigma, seed=seed)\n",
    "\n",
    "mu_hats = scan_mu_hat(mu_inj_list, N_B, N_trial, model_S, model_B, max_workers=25)"
   ]
  },
  {
   "cell_type": "code",
   "execution_count": 4,
   "id": "5dd57f04-4eb3-4110-b9b7-9795bf6f26c5",
   "metadata": {},
   "outputs": [
    {
     "data": {
      "image/png": "[encoded data removed]",
      "text/plain": [
       "<Figure size 640x480 with 1 Axes>"
      ]
     },
     "metadata": {},
     "output_type": "display_data"
    }
   ],
   "source": [
    "create_mu_plot(mu_hats, title='1D Gaussian Case')"
   ]
  },
  {
   "cell_type": "markdown",
   "id": "dff74789-653a-45ff-8a33-7e36b584b7bf",
   "metadata": {},
   "source": [
    "### Analytic Distributions - 3D Gaussian (Uncorrelated)"
   ]
  },
  {
   "cell_type": "code",
   "execution_count": 5,
   "id": "c32c7caf-d216-44ac-bcd3-3ec14ca874ae",
   "metadata": {
    "scrolled": true
   },
   "outputs": [
    {
     "name": "stdout",
     "output_type": "stream",
     "text": [
      "Running trial 1 with mu = 0.01\n",
      "Running trial 2 with mu = 0.01\n",
      "Running trial 3 with mu = 0.01\n",
      "Running trial 4 with mu = 0.01\n",
      "Running trial 5 with mu = 0.01\n",
      "Running trial 6 with mu = 0.01\n",
      "Running trial 7 with mu = 0.01\n",
      "Running trial 8 with mu = 0.01\n",
      "Running trial 9 with mu = 0.01\n",
      "Running trial 10 with mu = 0.01\n",
      "Running trial 1 with mu = 0.015448591479026755\n",
      "Running trial 2 with mu = 0.015448591479026755\n",
      "Running trial 3 with mu = 0.015448591479026755\n",
      "Running trial 4 with mu = 0.015448591479026755\n",
      "Running trial 5 with mu = 0.015448591479026755\n",
      "Running trial 6 with mu = 0.015448591479026755\n",
      "Running trial 7 with mu = 0.015448591479026755\n",
      "Running trial 8 with mu = 0.015448591479026755\n",
      "Running trial 9 with mu = 0.015448591479026755\n",
      "Running trial 10 with mu = 0.015448591479026755\n",
      "Running trial 1 with mu = 0.023865897868585808\n",
      "Running trial 2 with mu = 0.023865897868585808\n",
      "Running trial 3 with mu = 0.023865897868585808\n",
      "Running trial 4 with mu = 0.023865897868585808\n",
      "Running trial 5 with mu = 0.023865897868585808\n"
     ]
    },
    {
     "name": "stderr",
     "output_type": "stream",
     "text": [
      "/tmp/ipykernel_174446/909118199.py:50: RuntimeWarning: Method 'bounded' does not support relative tolerance in x; defaulting to absolute tolerance.\n",
      "  res = minimize_scalar(func, bounds=(1e-6, 1 - 1e-6), tol=1e-6)\n",
      "/tmp/ipykernel_174446/909118199.py:50: RuntimeWarning: Method 'bounded' does not support relative tolerance in x; defaulting to absolute tolerance.\n",
      "  res = minimize_scalar(func, bounds=(1e-6, 1 - 1e-6), tol=1e-6)\n",
      "/tmp/ipykernel_174446/909118199.py:50: RuntimeWarning: Method 'bounded' does not support relative tolerance in x; defaulting to absolute tolerance.\n",
      "  res = minimize_scalar(func, bounds=(1e-6, 1 - 1e-6), tol=1e-6)\n",
      "/tmp/ipykernel_174446/909118199.py:50: RuntimeWarning: Method 'bounded' does not support relative tolerance in x; defaulting to absolute tolerance.\n",
      "  res = minimize_scalar(func, bounds=(1e-6, 1 - 1e-6), tol=1e-6)\n",
      "/tmp/ipykernel_174446/909118199.py:50: RuntimeWarning: Method 'bounded' does not support relative tolerance in x; defaulting to absolute tolerance.\n",
      "  res = minimize_scalar(func, bounds=(1e-6, 1 - 1e-6), tol=1e-6)\n",
      "/tmp/ipykernel_174446/909118199.py:50: RuntimeWarning: Method 'bounded' does not support relative tolerance in x; defaulting to absolute tolerance.\n",
      "  res = minimize_scalar(func, bounds=(1e-6, 1 - 1e-6), tol=1e-6)\n",
      "/tmp/ipykernel_174446/909118199.py:50: RuntimeWarning: Method 'bounded' does not support relative tolerance in x; defaulting to absolute tolerance.\n",
      "  res = minimize_scalar(func, bounds=(1e-6, 1 - 1e-6), tol=1e-6)\n",
      "/tmp/ipykernel_174446/909118199.py:50: RuntimeWarning: Method 'bounded' does not support relative tolerance in x; defaulting to absolute tolerance.\n",
      "  res = minimize_scalar(func, bounds=(1e-6, 1 - 1e-6), tol=1e-6)\n",
      "/tmp/ipykernel_174446/909118199.py:50: RuntimeWarning: Method 'bounded' does not support relative tolerance in x; defaulting to absolute tolerance.\n",
      "  res = minimize_scalar(func, bounds=(1e-6, 1 - 1e-6), tol=1e-6)\n",
      "/tmp/ipykernel_174446/909118199.py:50: RuntimeWarning: Method 'bounded' does not support relative tolerance in x; defaulting to absolute tolerance.\n",
      "  res = minimize_scalar(func, bounds=(1e-6, 1 - 1e-6), tol=1e-6)\n",
      "/tmp/ipykernel_174446/909118199.py:50: RuntimeWarning: Method 'bounded' does not support relative tolerance in x; defaulting to absolute tolerance.\n",
      "  res = minimize_scalar(func, bounds=(1e-6, 1 - 1e-6), tol=1e-6)\n",
      "/tmp/ipykernel_174446/909118199.py:50: RuntimeWarning: Method 'bounded' does not support relative tolerance in x; defaulting to absolute tolerance.\n",
      "  res = minimize_scalar(func, bounds=(1e-6, 1 - 1e-6), tol=1e-6)\n",
      "/tmp/ipykernel_174446/909118199.py:50: RuntimeWarning: Method 'bounded' does not support relative tolerance in x; defaulting to absolute tolerance.\n",
      "  res = minimize_scalar(func, bounds=(1e-6, 1 - 1e-6), tol=1e-6)\n",
      "/tmp/ipykernel_174446/909118199.py:50: RuntimeWarning: Method 'bounded' does not support relative tolerance in x; defaulting to absolute tolerance.\n",
      "  res = minimize_scalar(func, bounds=(1e-6, 1 - 1e-6), tol=1e-6)\n",
      "/tmp/ipykernel_174446/909118199.py:50: RuntimeWarning: Method 'bounded' does not support relative tolerance in x; defaulting to absolute tolerance.\n",
      "  res = minimize_scalar(func, bounds=(1e-6, 1 - 1e-6), tol=1e-6)\n",
      "/tmp/ipykernel_174446/909118199.py:50: RuntimeWarning: Method 'bounded' does not support relative tolerance in x; defaulting to absolute tolerance.\n",
      "  res = minimize_scalar(func, bounds=(1e-6, 1 - 1e-6), tol=1e-6)\n",
      "/tmp/ipykernel_174446/909118199.py:50: RuntimeWarning: Method 'bounded' does not support relative tolerance in x; defaulting to absolute tolerance.\n",
      "  res = minimize_scalar(func, bounds=(1e-6, 1 - 1e-6), tol=1e-6)\n",
      "/tmp/ipykernel_174446/909118199.py:50: RuntimeWarning: Method 'bounded' does not support relative tolerance in x; defaulting to absolute tolerance.\n",
      "  res = minimize_scalar(func, bounds=(1e-6, 1 - 1e-6), tol=1e-6)\n",
      "/tmp/ipykernel_174446/909118199.py:50: RuntimeWarning: Method 'bounded' does not support relative tolerance in x; defaulting to absolute tolerance.\n",
      "  res = minimize_scalar(func, bounds=(1e-6, 1 - 1e-6), tol=1e-6)\n",
      "/tmp/ipykernel_174446/909118199.py:50: RuntimeWarning: Method 'bounded' does not support relative tolerance in x; defaulting to absolute tolerance.\n",
      "  res = minimize_scalar(func, bounds=(1e-6, 1 - 1e-6), tol=1e-6)\n",
      "/tmp/ipykernel_174446/909118199.py:50: RuntimeWarning: Method 'bounded' does not support relative tolerance in x; defaulting to absolute tolerance.\n",
      "  res = minimize_scalar(func, bounds=(1e-6, 1 - 1e-6), tol=1e-6)\n",
      "/tmp/ipykernel_174446/909118199.py:50: RuntimeWarning: Method 'bounded' does not support relative tolerance in x; defaulting to absolute tolerance.\n",
      "  res = minimize_scalar(func, bounds=(1e-6, 1 - 1e-6), tol=1e-6)\n",
      "/tmp/ipykernel_174446/909118199.py:50: RuntimeWarning: Method 'bounded' does not support relative tolerance in x; defaulting to absolute tolerance.\n",
      "  res = minimize_scalar(func, bounds=(1e-6, 1 - 1e-6), tol=1e-6)\n",
      "/tmp/ipykernel_174446/909118199.py:50: RuntimeWarning: Method 'bounded' does not support relative tolerance in x; defaulting to absolute tolerance.\n",
      "  res = minimize_scalar(func, bounds=(1e-6, 1 - 1e-6), tol=1e-6)\n",
      "/tmp/ipykernel_174446/909118199.py:50: RuntimeWarning: Method 'bounded' does not support relative tolerance in x; defaulting to absolute tolerance.\n",
      "  res = minimize_scalar(func, bounds=(1e-6, 1 - 1e-6), tol=1e-6)\n"
     ]
    },
    {
     "name": "stdout",
     "output_type": "stream",
     "text": [
      "Running trial 6 with mu = 0.023865897868585808\n",
      "Running trial 7 with mu = 0.023865897868585808\n",
      "Running trial 8 with mu = 0.023865897868585808\n",
      "Running trial 9 with mu = 0.023865897868585808\n",
      "Running trial 10 with mu = 0.023865897868585808\n",
      "Running trial 1 with mu = 0.036869450645195756\n",
      "Running trial 2 with mu = 0.036869450645195756\n",
      "Running trial 3 with mu = 0.036869450645195756\n",
      "Running trial 4 with mu = 0.036869450645195756\n",
      "Running trial 5 with mu = 0.036869450645195756\n",
      "Running trial 6 with mu = 0.036869450645195756\n",
      "Running trial 8 with mu = 0.036869450645195756\n",
      "Running trial 7 with mu = 0.036869450645195756\n",
      "Running trial 9 with mu = 0.036869450645195756\n",
      "Running trial 10 with mu = 0.036869450645195756\n",
      "Running trial 1 with mu = 0.056958108107376865\n",
      "Running trial 2 with mu = 0.056958108107376865\n",
      "Running trial 3 with mu = 0.056958108107376865\n",
      "Running trial 4 with mu = 0.056958108107376865\n",
      "Running trial 5 with mu = 0.056958108107376865\n",
      "Running trial 6 with mu = 0.056958108107376865\n",
      "Running trial 7 with mu = 0.056958108107376865\n",
      "Running trial 8 with mu = 0.056958108107376865\n",
      "Running trial 9 with mu = 0.056958108107376865\n",
      "Running trial 10 with mu = 0.056958108107376865\n",
      "Running trial 1 with mu = 0.0879922543569107\n",
      "Running trial 2 with mu = 0.0879922543569107\n",
      "Running trial 3 with mu = 0.0879922543569107\n",
      "Running trial 4 with mu = 0.0879922543569107\n",
      "Running trial 5 with mu = 0.0879922543569107\n",
      "Running trial 6 with mu = 0.0879922543569107\n",
      "Running trial 7 with mu = 0.0879922543569107\n",
      "Running trial 8 with mu = 0.0879922543569107\n",
      "Running trial 9 with mu = 0.0879922543569107\n",
      "Running trial 10 with mu = 0.0879922543569107\n",
      "Running trial 1 with mu = 0.13593563908785256\n",
      "Running trial 2 with mu = 0.13593563908785256\n",
      "Running trial 3 with mu = 0.13593563908785256\n",
      "Running trial 4 with mu = 0.13593563908785256\n",
      "Running trial 5 with mu = 0.13593563908785256\n",
      "Running trial 6 with mu = 0.13593563908785256\n",
      "Running trial 7 with mu = 0.13593563908785256\n",
      "Running trial 8 with mu = 0.13593563908785256\n",
      "Running trial 9 with mu = 0.13593563908785256\n",
      "Running trial 10 with mu = 0.13593563908785256\n",
      "Running trial 1 with mu = 0.21000141557086555\n",
      "Running trial 2 with mu = 0.21000141557086555\n",
      "Running trial 3 with mu = 0.21000141557086555\n",
      "Running trial 4 with mu = 0.21000141557086555\n",
      "Running trial 5 with mu = 0.21000141557086555\n",
      "Running trial 6 with mu = 0.21000141557086555\n",
      "Running trial 7 with mu = 0.21000141557086555\n",
      "Running trial 8 with mu = 0.21000141557086555\n",
      "Running trial 9 with mu = 0.21000141557086555\n",
      "Running trial 10 with mu = 0.21000141557086555\n",
      "Running trial 1 with mu = 0.324422607917163\n",
      "Running trial 2 with mu = 0.324422607917163\n",
      "Running trial 3 with mu = 0.324422607917163\n",
      "Running trial 4 with mu = 0.324422607917163\n",
      "Running trial 5 with mu = 0.324422607917163\n",
      "Running trial 6 with mu = 0.324422607917163\n",
      "Running trial 7 with mu = 0.324422607917163\n",
      "Running trial 8 with mu = 0.324422607917163\n",
      "Running trial 9 with mu = 0.324422607917163\n",
      "Running trial 10 with mu = 0.324422607917163\n",
      "Running trial 1 with mu = 0.5011872336272722\n",
      "Running trial 2 with mu = 0.5011872336272722\n",
      "Running trial 3 with mu = 0.5011872336272722\n",
      "Running trial 4 with mu = 0.5011872336272722\n",
      "Running trial 5 with mu = 0.5011872336272722\n",
      "Running trial 6 with mu = 0.5011872336272722\n",
      "Running trial 7 with mu = 0.5011872336272722\n",
      "Running trial 8 with mu = 0.5011872336272722\n",
      "Running trial 9 with mu = 0.5011872336272722\n",
      "Running trial 10 with mu = 0.5011872336272722\n"
     ]
    }
   ],
   "source": [
    "mu_inj_list = np.logspace(-2, -0.3, 10)\n",
    "N_trial = 10\n",
    "N_B = 200000\n",
    "seed = 2024\n",
    "\n",
    "mu_S = [1, 3, 5]\n",
    "mu_B = [6, 4, 2]\n",
    "sigma = 1\n",
    "\n",
    "model_S = multivariate_normal(mean=mu_S, cov=sigma, seed=seed)\n",
    "model_B = multivariate_normal(mean=mu_B, cov=sigma, seed=seed)\n",
    "\n",
    "mu_hats = scan_mu_hat(mu_inj_list, N_B, N_trial, model_S, model_B, max_workers=25)"
   ]
  },
  {
   "cell_type": "code",
   "execution_count": 6,
   "id": "80155461-f655-49aa-b073-057f505247c9",
   "metadata": {},
   "outputs": [
    {
     "data": {
      "image/png": "[encoded data removed]",
      "text/plain": [
       "<Figure size 640x480 with 1 Axes>"
      ]
     },
     "metadata": {},
     "output_type": "display_data"
    }
   ],
   "source": [
    "create_mu_plot(mu_hats, title='3D Gaussian Case')"
   ]
  },
  {
   "cell_type": "markdown",
   "id": "0f88e41b-81d0-4b89-aae7-10f428fac0b4",
   "metadata": {},
   "source": [
    "### Analytic Distributions - 2D Gaussian (Correlated)"
   ]
  },
  {
   "cell_type": "code",
   "execution_count": 7,
   "id": "68f71b0e-28f4-4bb4-b083-53c7824c6cd8",
   "metadata": {
    "scrolled": true
   },
   "outputs": [
    {
     "name": "stdout",
     "output_type": "stream",
     "text": [
      "Running trial 1 with mu = 0.01\n",
      "Running trial 2 with mu = 0.01\n",
      "Running trial 3 with mu = 0.01\n",
      "Running trial 4 with mu = 0.01\n",
      "Running trial 5 with mu = 0.01\n",
      "Running trial 6 with mu = 0.01\n",
      "Running trial 7 with mu = 0.01\n",
      "Running trial 8 with mu = 0.01\n",
      "Running trial 9 with mu = 0.01\n",
      "Running trial 10 with mu = 0.01\n",
      "Running trial 1 with mu = 0.015448591479026755\n",
      "Running trial 2 with mu = 0.015448591479026755\n",
      "Running trial 3 with mu = 0.015448591479026755\n",
      "Running trial 4 with mu = 0.015448591479026755\n",
      "Running trial 5 with mu = 0.015448591479026755\n",
      "Running trial 6 with mu = 0.015448591479026755\n",
      "Running trial 7 with mu = 0.015448591479026755\n",
      "Running trial 8 with mu = 0.015448591479026755\n",
      "Running trial 9 with mu = 0.015448591479026755\n",
      "Running trial 10 with mu = 0.015448591479026755\n",
      "Running trial 1 with mu = 0.023865897868585808\n",
      "Running trial 2 with mu = 0.023865897868585808\n",
      "Running trial 3 with mu = 0.023865897868585808\n",
      "Running trial 4 with mu = 0.023865897868585808\n",
      "Running trial 5 with mu = 0.023865897868585808\n"
     ]
    },
    {
     "name": "stderr",
     "output_type": "stream",
     "text": [
      "/tmp/ipykernel_174446/909118199.py:50: RuntimeWarning: Method 'bounded' does not support relative tolerance in x; defaulting to absolute tolerance.\n",
      "  res = minimize_scalar(func, bounds=(1e-6, 1 - 1e-6), tol=1e-6)\n",
      "/tmp/ipykernel_174446/909118199.py:50: RuntimeWarning: Method 'bounded' does not support relative tolerance in x; defaulting to absolute tolerance.\n",
      "  res = minimize_scalar(func, bounds=(1e-6, 1 - 1e-6), tol=1e-6)\n",
      "/tmp/ipykernel_174446/909118199.py:50: RuntimeWarning: Method 'bounded' does not support relative tolerance in x; defaulting to absolute tolerance.\n",
      "  res = minimize_scalar(func, bounds=(1e-6, 1 - 1e-6), tol=1e-6)\n",
      "/tmp/ipykernel_174446/909118199.py:50: RuntimeWarning: Method 'bounded' does not support relative tolerance in x; defaulting to absolute tolerance.\n",
      "  res = minimize_scalar(func, bounds=(1e-6, 1 - 1e-6), tol=1e-6)\n",
      "/tmp/ipykernel_174446/909118199.py:50: RuntimeWarning: Method 'bounded' does not support relative tolerance in x; defaulting to absolute tolerance.\n",
      "  res = minimize_scalar(func, bounds=(1e-6, 1 - 1e-6), tol=1e-6)\n",
      "/tmp/ipykernel_174446/909118199.py:50: RuntimeWarning: Method 'bounded' does not support relative tolerance in x; defaulting to absolute tolerance.\n",
      "  res = minimize_scalar(func, bounds=(1e-6, 1 - 1e-6), tol=1e-6)\n",
      "/tmp/ipykernel_174446/909118199.py:50: RuntimeWarning: Method 'bounded' does not support relative tolerance in x; defaulting to absolute tolerance.\n",
      "  res = minimize_scalar(func, bounds=(1e-6, 1 - 1e-6), tol=1e-6)\n",
      "/tmp/ipykernel_174446/909118199.py:50: RuntimeWarning: Method 'bounded' does not support relative tolerance in x; defaulting to absolute tolerance.\n",
      "  res = minimize_scalar(func, bounds=(1e-6, 1 - 1e-6), tol=1e-6)\n",
      "/tmp/ipykernel_174446/909118199.py:50: RuntimeWarning: Method 'bounded' does not support relative tolerance in x; defaulting to absolute tolerance.\n",
      "  res = minimize_scalar(func, bounds=(1e-6, 1 - 1e-6), tol=1e-6)\n",
      "/tmp/ipykernel_174446/909118199.py:50: RuntimeWarning: Method 'bounded' does not support relative tolerance in x; defaulting to absolute tolerance.\n",
      "  res = minimize_scalar(func, bounds=(1e-6, 1 - 1e-6), tol=1e-6)\n",
      "/tmp/ipykernel_174446/909118199.py:50: RuntimeWarning: Method 'bounded' does not support relative tolerance in x; defaulting to absolute tolerance.\n",
      "  res = minimize_scalar(func, bounds=(1e-6, 1 - 1e-6), tol=1e-6)\n",
      "/tmp/ipykernel_174446/909118199.py:50: RuntimeWarning: Method 'bounded' does not support relative tolerance in x; defaulting to absolute tolerance.\n",
      "  res = minimize_scalar(func, bounds=(1e-6, 1 - 1e-6), tol=1e-6)\n",
      "/tmp/ipykernel_174446/909118199.py:50: RuntimeWarning: Method 'bounded' does not support relative tolerance in x; defaulting to absolute tolerance.\n",
      "  res = minimize_scalar(func, bounds=(1e-6, 1 - 1e-6), tol=1e-6)\n",
      "/tmp/ipykernel_174446/909118199.py:50: RuntimeWarning: Method 'bounded' does not support relative tolerance in x; defaulting to absolute tolerance.\n",
      "  res = minimize_scalar(func, bounds=(1e-6, 1 - 1e-6), tol=1e-6)\n",
      "/tmp/ipykernel_174446/909118199.py:50: RuntimeWarning: Method 'bounded' does not support relative tolerance in x; defaulting to absolute tolerance.\n",
      "  res = minimize_scalar(func, bounds=(1e-6, 1 - 1e-6), tol=1e-6)\n",
      "/tmp/ipykernel_174446/909118199.py:50: RuntimeWarning: Method 'bounded' does not support relative tolerance in x; defaulting to absolute tolerance.\n",
      "  res = minimize_scalar(func, bounds=(1e-6, 1 - 1e-6), tol=1e-6)\n",
      "/tmp/ipykernel_174446/909118199.py:50: RuntimeWarning: Method 'bounded' does not support relative tolerance in x; defaulting to absolute tolerance.\n",
      "  res = minimize_scalar(func, bounds=(1e-6, 1 - 1e-6), tol=1e-6)\n",
      "/tmp/ipykernel_174446/909118199.py:50: RuntimeWarning: Method 'bounded' does not support relative tolerance in x; defaulting to absolute tolerance.\n",
      "  res = minimize_scalar(func, bounds=(1e-6, 1 - 1e-6), tol=1e-6)\n",
      "/tmp/ipykernel_174446/909118199.py:50: RuntimeWarning: Method 'bounded' does not support relative tolerance in x; defaulting to absolute tolerance.\n",
      "  res = minimize_scalar(func, bounds=(1e-6, 1 - 1e-6), tol=1e-6)\n",
      "/tmp/ipykernel_174446/909118199.py:50: RuntimeWarning: Method 'bounded' does not support relative tolerance in x; defaulting to absolute tolerance.\n",
      "  res = minimize_scalar(func, bounds=(1e-6, 1 - 1e-6), tol=1e-6)\n",
      "/tmp/ipykernel_174446/909118199.py:50: RuntimeWarning: Method 'bounded' does not support relative tolerance in x; defaulting to absolute tolerance.\n",
      "  res = minimize_scalar(func, bounds=(1e-6, 1 - 1e-6), tol=1e-6)\n",
      "/tmp/ipykernel_174446/909118199.py:50: RuntimeWarning: Method 'bounded' does not support relative tolerance in x; defaulting to absolute tolerance.\n",
      "  res = minimize_scalar(func, bounds=(1e-6, 1 - 1e-6), tol=1e-6)\n",
      "/tmp/ipykernel_174446/909118199.py:50: RuntimeWarning: Method 'bounded' does not support relative tolerance in x; defaulting to absolute tolerance.\n",
      "  res = minimize_scalar(func, bounds=(1e-6, 1 - 1e-6), tol=1e-6)\n",
      "/tmp/ipykernel_174446/909118199.py:50: RuntimeWarning: Method 'bounded' does not support relative tolerance in x; defaulting to absolute tolerance.\n",
      "  res = minimize_scalar(func, bounds=(1e-6, 1 - 1e-6), tol=1e-6)\n",
      "/tmp/ipykernel_174446/909118199.py:50: RuntimeWarning: Method 'bounded' does not support relative tolerance in x; defaulting to absolute tolerance.\n",
      "  res = minimize_scalar(func, bounds=(1e-6, 1 - 1e-6), tol=1e-6)\n"
     ]
    },
    {
     "name": "stdout",
     "output_type": "stream",
     "text": [
      "Running trial 6 with mu = 0.023865897868585808\n",
      "Running trial 7 with mu = 0.023865897868585808\n",
      "Running trial 8 with mu = 0.023865897868585808\n",
      "Running trial 9 with mu = 0.023865897868585808\n",
      "Running trial 10 with mu = 0.023865897868585808\n",
      "Running trial 1 with mu = 0.036869450645195756\n",
      "Running trial 2 with mu = 0.036869450645195756\n",
      "Running trial 3 with mu = 0.036869450645195756\n",
      "Running trial 4 with mu = 0.036869450645195756\n",
      "Running trial 5 with mu = 0.036869450645195756\n",
      "Running trial 6 with mu = 0.036869450645195756\n",
      "Running trial 7 with mu = 0.036869450645195756\n",
      "Running trial 8 with mu = 0.036869450645195756\n",
      "Running trial 9 with mu = 0.036869450645195756\n",
      "Running trial 10 with mu = 0.036869450645195756\n",
      "Running trial 2 with mu = 0.056958108107376865\n",
      "Running trial 1 with mu = 0.056958108107376865\n",
      "Running trial 3 with mu = 0.056958108107376865\n",
      "Running trial 4 with mu = 0.056958108107376865\n",
      "Running trial 5 with mu = 0.056958108107376865\n",
      "Running trial 6 with mu = 0.056958108107376865\n",
      "Running trial 7 with mu = 0.056958108107376865\n",
      "Running trial 8 with mu = 0.056958108107376865\n",
      "Running trial 9 with mu = 0.056958108107376865\n",
      "Running trial 10 with mu = 0.056958108107376865\n",
      "Running trial 1 with mu = 0.0879922543569107\n",
      "Running trial 2 with mu = 0.0879922543569107\n",
      "Running trial 3 with mu = 0.0879922543569107\n",
      "Running trial 4 with mu = 0.0879922543569107\n",
      "Running trial 5 with mu = 0.0879922543569107\n",
      "Running trial 6 with mu = 0.0879922543569107\n",
      "Running trial 7 with mu = 0.0879922543569107\n",
      "Running trial 8 with mu = 0.0879922543569107\n",
      "Running trial 9 with mu = 0.0879922543569107\n",
      "Running trial 10 with mu = 0.0879922543569107\n",
      "Running trial 1 with mu = 0.13593563908785256\n",
      "Running trial 2 with mu = 0.13593563908785256\n",
      "Running trial 3 with mu = 0.13593563908785256\n",
      "Running trial 4 with mu = 0.13593563908785256\n",
      "Running trial 5 with mu = 0.13593563908785256\n",
      "Running trial 6 with mu = 0.13593563908785256\n",
      "Running trial 7 with mu = 0.13593563908785256\n",
      "Running trial 8 with mu = 0.13593563908785256\n",
      "Running trial 9 with mu = 0.13593563908785256\n",
      "Running trial 10 with mu = 0.13593563908785256\n",
      "Running trial 1 with mu = 0.21000141557086555\n",
      "Running trial 2 with mu = 0.21000141557086555\n",
      "Running trial 3 with mu = 0.21000141557086555\n",
      "Running trial 4 with mu = 0.21000141557086555\n",
      "Running trial 5 with mu = 0.21000141557086555\n",
      "Running trial 6 with mu = 0.21000141557086555\n",
      "Running trial 7 with mu = 0.21000141557086555\n",
      "Running trial 8 with mu = 0.21000141557086555\n",
      "Running trial 9 with mu = 0.21000141557086555\n",
      "Running trial 10 with mu = 0.21000141557086555\n",
      "Running trial 1 with mu = 0.324422607917163\n",
      "Running trial 2 with mu = 0.324422607917163\n",
      "Running trial 3 with mu = 0.324422607917163\n",
      "Running trial 4 with mu = 0.324422607917163\n",
      "Running trial 5 with mu = 0.324422607917163\n",
      "Running trial 6 with mu = 0.324422607917163\n",
      "Running trial 7 with mu = 0.324422607917163\n",
      "Running trial 8 with mu = 0.324422607917163\n",
      "Running trial 9 with mu = 0.324422607917163\n",
      "Running trial 10 with mu = 0.324422607917163\n",
      "Running trial 1 with mu = 0.5011872336272722\n",
      "Running trial 2 with mu = 0.5011872336272722\n",
      "Running trial 3 with mu = 0.5011872336272722\n",
      "Running trial 4 with mu = 0.5011872336272722\n",
      "Running trial 5 with mu = 0.5011872336272722\n",
      "Running trial 6 with mu = 0.5011872336272722\n",
      "Running trial 7 with mu = 0.5011872336272722\n",
      "Running trial 8 with mu = 0.5011872336272722\n",
      "Running trial 9 with mu = 0.5011872336272722\n",
      "Running trial 10 with mu = 0.5011872336272722\n"
     ]
    }
   ],
   "source": [
    "mu_inj_list = np.logspace(-2, -0.3, 10)\n",
    "N_trial = 10\n",
    "N_B = 100000\n",
    "seed = 2024\n",
    "\n",
    "mu_S = [1, 3]\n",
    "mu_B = [1.5, 3.5]\n",
    "cov_S = np.array([[5, 4.5], [4.5, 5]]) # High Positive Correlation\n",
    "cov_B = np.array([[3, -2.7], [-2.7, 3]]) # Positive Correlation\n",
    "sigma = 1\n",
    "\n",
    "model_S = multivariate_normal(mean=mu_S, cov=cov_S, seed=seed)\n",
    "model_B = multivariate_normal(mean=mu_B, cov=cov_B, seed=seed)\n",
    "\n",
    "mu_hats = scan_mu_hat(mu_inj_list, N_B, N_trial, model_S, model_B, max_workers=25)"
   ]
  },
  {
   "cell_type": "code",
   "execution_count": 8,
   "id": "0a81442e-80b9-48fd-852d-9213460148b7",
   "metadata": {},
   "outputs": [
    {
     "data": {
      "image/png": "[encoded data removed]",
      "text/plain": [
       "<Figure size 640x480 with 1 Axes>"
      ]
     },
     "metadata": {},
     "output_type": "display_data"
    }
   ],
   "source": [
    "create_mu_plot(mu_hats, title='2D Correlated Gaussian Case')"
   ]
  },
  {
   "cell_type": "markdown",
   "id": "4fcedcdf-fd85-420e-9042-d28889c96624",
   "metadata": {},
   "source": [
    "### Analytic Distributions -  2D Gaussian Signal + Exponential Background Case"
   ]
  },
  {
   "cell_type": "code",
   "execution_count": 9,
   "id": "e99cba98-7f89-4729-a11b-7fc443da04d7",
   "metadata": {},
   "outputs": [],
   "source": [
    "class DistributionModel:\n",
    "    def __init__(self, seed=None):\n",
    "        self.seed = seed\n",
    "        self.random_state = np.random.RandomState(seed) if seed is not None else None\n",
    "\n",
    "    def rvs(self, size):\n",
    "        raise NotImplementedError\n",
    "\n",
    "class ExponentialModel(DistributionModel):\n",
    "    def __init__(self, scale, seed=None):\n",
    "        super().__init__(seed)\n",
    "        self.scale = scale\n",
    "\n",
    "    def rvs(self, size, random_state=None):\n",
    "        random_state = random_state or self.random_state\n",
    "        return expon(scale=self.scale).rvs(size=(size, 2), random_state=random_state)\n",
    "\n",
    "    def pdf(self, x):\n",
    "        # The PDF of the exponential distribution for each independent variable:\n",
    "        # f(x) = (1 / scale) * exp(-x / scale) for x > 0\n",
    "        # In 2D, assuming independence, the joint PDF is the product of the marginal PDFs.\n",
    "        pdf_x1 = (1 / self.scale) * np.exp(-x[:, 0] / self.scale)\n",
    "        pdf_x2 = (1 / self.scale) * np.exp(-x[:, 1] / self.scale)\n",
    "        return pdf_x1 * pdf_x2"
   ]
  },
  {
   "cell_type": "code",
   "execution_count": 10,
   "id": "fb71083d-2401-4848-b411-a4cf5231974c",
   "metadata": {},
   "outputs": [],
   "source": [
    "mu_inj_list = np.logspace(-2, -0.3, 10)\n",
    "N_trial = 10\n",
    "N_B = 100000\n",
    "seed = 2024\n",
    "\n",
    "mu_S = [3, 3]\n",
    "cov_S = np.array([[1, 0], [0, 1]])\n",
    "model_S = multivariate_normal(mean=mu_S, cov=cov_S, seed=seed)\n",
    "\n",
    "scale_B = (10 - 1) / np.log(10)\n",
    "model_B = ExponentialModel(scale=scale_B, seed=seed)\n",
    "\n",
    "R = get_R(model_B, N_B)\n",
    "D = get_D(model_S, model_B, N_B, 0.1)"
   ]
  },
  {
   "cell_type": "code",
   "execution_count": 11,
   "id": "c4282d01-ff1d-417c-87b3-aaea05dd2f21",
   "metadata": {},
   "outputs": [
    {
     "data": {
      "text/plain": [
       "Text(0.5, 0, 'count')"
      ]
     },
     "execution_count": 11,
     "metadata": {},
     "output_type": "execute_result"
    },
    {
     "data": {
      "image/png": "[encoded data removed]",
      "text/plain": [
       "<Figure size 640x480 with 1 Axes>"
      ]
     },
     "metadata": {},
     "output_type": "display_data"
    }
   ],
   "source": [
    "plt.hist(R[:, 0], alpha=0.5, range=(0, 20), bins=40, label='Reference')\n",
    "plt.hist(D[:, 0], alpha=0.5, range=(0, 20), bins=40, label='Data')\n",
    "plt.legend()\n",
    "plt.xlabel('x')\n",
    "plt.xlabel('count')"
   ]
  },
  {
   "cell_type": "code",
   "execution_count": 12,
   "id": "39bdad6e-bc25-4eef-91b7-13b980e9d5f8",
   "metadata": {
    "scrolled": true
   },
   "outputs": [
    {
     "name": "stdout",
     "output_type": "stream",
     "text": [
      "Running trial 1 with mu = 0.01\n",
      "Running trial 8 with mu = 0.01\n",
      "Running trial 2 with mu = 0.01\n",
      "Running trial 3 with mu = 0.01\n",
      "Running trial 4 with mu = 0.01\n",
      "Running trial 5 with mu = 0.01\n",
      "Running trial 6 with mu = 0.01\n",
      "Running trial 7 with mu = 0.01\n",
      "Running trial 9 with mu = 0.01\n",
      "Running trial 10 with mu = 0.01\n",
      "Running trial 1 with mu = 0.015448591479026755\n",
      "Running trial 2 with mu = 0.015448591479026755\n",
      "Running trial 4 with mu = 0.015448591479026755\n",
      "Running trial 3 with mu = 0.015448591479026755\n",
      "Running trial 5 with mu = 0.015448591479026755\n",
      "Running trial 6 with mu = 0.015448591479026755\n",
      "Running trial 7 with mu = 0.015448591479026755\n",
      "Running trial 8 with mu = 0.015448591479026755\n",
      "Running trial 9 with mu = 0.015448591479026755\n",
      "Running trial 10 with mu = 0.015448591479026755\n",
      "Running trial 1 with mu = 0.023865897868585808\n",
      "Running trial 2 with mu = 0.023865897868585808\n",
      "Running trial 3 with mu = 0.023865897868585808\n",
      "Running trial 4 with mu = 0.023865897868585808\n",
      "Running trial 5 with mu = 0.023865897868585808\n"
     ]
    },
    {
     "name": "stderr",
     "output_type": "stream",
     "text": [
      "/tmp/ipykernel_174446/909118199.py:50: RuntimeWarning: Method 'bounded' does not support relative tolerance in x; defaulting to absolute tolerance.\n",
      "  res = minimize_scalar(func, bounds=(1e-6, 1 - 1e-6), tol=1e-6)\n",
      "/tmp/ipykernel_174446/909118199.py:50: RuntimeWarning: Method 'bounded' does not support relative tolerance in x; defaulting to absolute tolerance.\n",
      "  res = minimize_scalar(func, bounds=(1e-6, 1 - 1e-6), tol=1e-6)\n",
      "/tmp/ipykernel_174446/909118199.py:50: RuntimeWarning: Method 'bounded' does not support relative tolerance in x; defaulting to absolute tolerance.\n",
      "  res = minimize_scalar(func, bounds=(1e-6, 1 - 1e-6), tol=1e-6)\n",
      "/tmp/ipykernel_174446/909118199.py:50: RuntimeWarning: Method 'bounded' does not support relative tolerance in x; defaulting to absolute tolerance.\n",
      "  res = minimize_scalar(func, bounds=(1e-6, 1 - 1e-6), tol=1e-6)\n",
      "/tmp/ipykernel_174446/909118199.py:50: RuntimeWarning: Method 'bounded' does not support relative tolerance in x; defaulting to absolute tolerance.\n",
      "  res = minimize_scalar(func, bounds=(1e-6, 1 - 1e-6), tol=1e-6)\n",
      "/tmp/ipykernel_174446/909118199.py:50: RuntimeWarning: Method 'bounded' does not support relative tolerance in x; defaulting to absolute tolerance.\n",
      "  res = minimize_scalar(func, bounds=(1e-6, 1 - 1e-6), tol=1e-6)\n",
      "/tmp/ipykernel_174446/909118199.py:50: RuntimeWarning: Method 'bounded' does not support relative tolerance in x; defaulting to absolute tolerance.\n",
      "  res = minimize_scalar(func, bounds=(1e-6, 1 - 1e-6), tol=1e-6)\n",
      "/tmp/ipykernel_174446/909118199.py:50: RuntimeWarning: Method 'bounded' does not support relative tolerance in x; defaulting to absolute tolerance.\n",
      "  res = minimize_scalar(func, bounds=(1e-6, 1 - 1e-6), tol=1e-6)\n",
      "/tmp/ipykernel_174446/909118199.py:50: RuntimeWarning: Method 'bounded' does not support relative tolerance in x; defaulting to absolute tolerance.\n",
      "  res = minimize_scalar(func, bounds=(1e-6, 1 - 1e-6), tol=1e-6)\n",
      "/tmp/ipykernel_174446/909118199.py:50: RuntimeWarning: Method 'bounded' does not support relative tolerance in x; defaulting to absolute tolerance.\n",
      "  res = minimize_scalar(func, bounds=(1e-6, 1 - 1e-6), tol=1e-6)\n",
      "/tmp/ipykernel_174446/909118199.py:50: RuntimeWarning: Method 'bounded' does not support relative tolerance in x; defaulting to absolute tolerance.\n",
      "  res = minimize_scalar(func, bounds=(1e-6, 1 - 1e-6), tol=1e-6)\n",
      "/tmp/ipykernel_174446/909118199.py:50: RuntimeWarning: Method 'bounded' does not support relative tolerance in x; defaulting to absolute tolerance.\n",
      "  res = minimize_scalar(func, bounds=(1e-6, 1 - 1e-6), tol=1e-6)\n",
      "/tmp/ipykernel_174446/909118199.py:50: RuntimeWarning: Method 'bounded' does not support relative tolerance in x; defaulting to absolute tolerance.\n",
      "  res = minimize_scalar(func, bounds=(1e-6, 1 - 1e-6), tol=1e-6)\n",
      "/tmp/ipykernel_174446/909118199.py:50: RuntimeWarning: Method 'bounded' does not support relative tolerance in x; defaulting to absolute tolerance.\n",
      "  res = minimize_scalar(func, bounds=(1e-6, 1 - 1e-6), tol=1e-6)\n",
      "/tmp/ipykernel_174446/909118199.py:50: RuntimeWarning: Method 'bounded' does not support relative tolerance in x; defaulting to absolute tolerance.\n",
      "  res = minimize_scalar(func, bounds=(1e-6, 1 - 1e-6), tol=1e-6)\n",
      "/tmp/ipykernel_174446/909118199.py:50: RuntimeWarning: Method 'bounded' does not support relative tolerance in x; defaulting to absolute tolerance.\n",
      "  res = minimize_scalar(func, bounds=(1e-6, 1 - 1e-6), tol=1e-6)\n",
      "/tmp/ipykernel_174446/909118199.py:50: RuntimeWarning: Method 'bounded' does not support relative tolerance in x; defaulting to absolute tolerance.\n",
      "  res = minimize_scalar(func, bounds=(1e-6, 1 - 1e-6), tol=1e-6)\n",
      "/tmp/ipykernel_174446/909118199.py:50: RuntimeWarning: Method 'bounded' does not support relative tolerance in x; defaulting to absolute tolerance.\n",
      "  res = minimize_scalar(func, bounds=(1e-6, 1 - 1e-6), tol=1e-6)\n",
      "/tmp/ipykernel_174446/909118199.py:50: RuntimeWarning: Method 'bounded' does not support relative tolerance in x; defaulting to absolute tolerance.\n",
      "  res = minimize_scalar(func, bounds=(1e-6, 1 - 1e-6), tol=1e-6)\n",
      "/tmp/ipykernel_174446/909118199.py:50: RuntimeWarning: Method 'bounded' does not support relative tolerance in x; defaulting to absolute tolerance.\n",
      "  res = minimize_scalar(func, bounds=(1e-6, 1 - 1e-6), tol=1e-6)\n",
      "/tmp/ipykernel_174446/909118199.py:50: RuntimeWarning: Method 'bounded' does not support relative tolerance in x; defaulting to absolute tolerance.\n",
      "  res = minimize_scalar(func, bounds=(1e-6, 1 - 1e-6), tol=1e-6)\n",
      "/tmp/ipykernel_174446/909118199.py:50: RuntimeWarning: Method 'bounded' does not support relative tolerance in x; defaulting to absolute tolerance.\n",
      "  res = minimize_scalar(func, bounds=(1e-6, 1 - 1e-6), tol=1e-6)\n",
      "/tmp/ipykernel_174446/909118199.py:50: RuntimeWarning: Method 'bounded' does not support relative tolerance in x; defaulting to absolute tolerance.\n",
      "  res = minimize_scalar(func, bounds=(1e-6, 1 - 1e-6), tol=1e-6)\n",
      "/tmp/ipykernel_174446/909118199.py:50: RuntimeWarning: Method 'bounded' does not support relative tolerance in x; defaulting to absolute tolerance.\n",
      "  res = minimize_scalar(func, bounds=(1e-6, 1 - 1e-6), tol=1e-6)\n",
      "/tmp/ipykernel_174446/909118199.py:50: RuntimeWarning: Method 'bounded' does not support relative tolerance in x; defaulting to absolute tolerance.\n",
      "  res = minimize_scalar(func, bounds=(1e-6, 1 - 1e-6), tol=1e-6)\n"
     ]
    },
    {
     "name": "stdout",
     "output_type": "stream",
     "text": [
      "Running trial 6 with mu = 0.023865897868585808\n",
      "Running trial 7 with mu = 0.023865897868585808\n",
      "Running trial 8 with mu = 0.023865897868585808\n",
      "Running trial 9 with mu = 0.023865897868585808\n",
      "Running trial 10 with mu = 0.023865897868585808\n",
      "Running trial 1 with mu = 0.036869450645195756\n",
      "Running trial 2 with mu = 0.036869450645195756\n",
      "Running trial 3 with mu = 0.036869450645195756\n",
      "Running trial 4 with mu = 0.036869450645195756\n",
      "Running trial 5 with mu = 0.036869450645195756\n",
      "Running trial 7 with mu = 0.036869450645195756\n",
      "Running trial 6 with mu = 0.036869450645195756\n",
      "Running trial 8 with mu = 0.036869450645195756\n",
      "Running trial 9 with mu = 0.036869450645195756\n",
      "Running trial 10 with mu = 0.036869450645195756\n",
      "Running trial 1 with mu = 0.056958108107376865\n",
      "Running trial 2 with mu = 0.056958108107376865\n",
      "Running trial 3 with mu = 0.056958108107376865\n",
      "Running trial 4 with mu = 0.056958108107376865\n",
      "Running trial 5 with mu = 0.056958108107376865\n",
      "Running trial 6 with mu = 0.056958108107376865\n",
      "Running trial 7 with mu = 0.056958108107376865\n",
      "Running trial 8 with mu = 0.056958108107376865\n",
      "Running trial 9 with mu = 0.056958108107376865\n",
      "Running trial 10 with mu = 0.056958108107376865\n",
      "Running trial 1 with mu = 0.0879922543569107\n",
      "Running trial 2 with mu = 0.0879922543569107\n",
      "Running trial 3 with mu = 0.0879922543569107\n",
      "Running trial 4 with mu = 0.0879922543569107\n",
      "Running trial 5 with mu = 0.0879922543569107\n",
      "Running trial 6 with mu = 0.0879922543569107\n",
      "Running trial 7 with mu = 0.0879922543569107\n",
      "Running trial 9 with mu = 0.0879922543569107\n",
      "Running trial 10 with mu = 0.0879922543569107\n",
      "Running trial 8 with mu = 0.0879922543569107\n",
      "Running trial 1 with mu = 0.13593563908785256\n",
      "Running trial 2 with mu = 0.13593563908785256\n",
      "Running trial 3 with mu = 0.13593563908785256\n",
      "Running trial 5 with mu = 0.13593563908785256\n",
      "Running trial 4 with mu = 0.13593563908785256\n",
      "Running trial 6 with mu = 0.13593563908785256\n",
      "Running trial 7 with mu = 0.13593563908785256\n",
      "Running trial 8 with mu = 0.13593563908785256\n",
      "Running trial 9 with mu = 0.13593563908785256\n",
      "Running trial 10 with mu = 0.13593563908785256\n",
      "Running trial 1 with mu = 0.21000141557086555\n",
      "Running trial 2 with mu = 0.21000141557086555\n",
      "Running trial 3 with mu = 0.21000141557086555\n",
      "Running trial 4 with mu = 0.21000141557086555\n",
      "Running trial 5 with mu = 0.21000141557086555\n",
      "Running trial 6 with mu = 0.21000141557086555\n",
      "Running trial 7 with mu = 0.21000141557086555\n",
      "Running trial 8 with mu = 0.21000141557086555\n",
      "Running trial 9 with mu = 0.21000141557086555\n",
      "Running trial 10 with mu = 0.21000141557086555\n",
      "Running trial 1 with mu = 0.324422607917163\n",
      "Running trial 2 with mu = 0.324422607917163\n",
      "Running trial 3 with mu = 0.324422607917163\n",
      "Running trial 4 with mu = 0.324422607917163\n",
      "Running trial 5 with mu = 0.324422607917163\n",
      "Running trial 6 with mu = 0.324422607917163\n",
      "Running trial 7 with mu = 0.324422607917163\n",
      "Running trial 8 with mu = 0.324422607917163\n",
      "Running trial 9 with mu = 0.324422607917163\n",
      "Running trial 10 with mu = 0.324422607917163\n",
      "Running trial 1 with mu = 0.5011872336272722\n",
      "Running trial 2 with mu = 0.5011872336272722\n",
      "Running trial 3 with mu = 0.5011872336272722\n",
      "Running trial 4 with mu = 0.5011872336272722\n",
      "Running trial 5 with mu = 0.5011872336272722\n",
      "Running trial 6 with mu = 0.5011872336272722\n",
      "Running trial 7 with mu = 0.5011872336272722\n",
      "Running trial 8 with mu = 0.5011872336272722\n",
      "Running trial 9 with mu = 0.5011872336272722\n",
      "Running trial 10 with mu = 0.5011872336272722\n"
     ]
    }
   ],
   "source": [
    "mu_hats = scan_mu_hat(mu_inj_list, N_B, N_trial, model_S, model_B, max_workers=25)"
   ]
  },
  {
   "cell_type": "code",
   "execution_count": 13,
   "id": "8a1eb98e-1f94-4772-8b46-b01fe28ffc6f",
   "metadata": {},
   "outputs": [
    {
     "data": {
      "image/png": "[encoded data removed]",
      "text/plain": [
       "<Figure size 640x480 with 1 Axes>"
      ]
     },
     "metadata": {},
     "output_type": "display_data"
    }
   ],
   "source": [
    "create_mu_plot(mu_hats, title='2D Gaussian Signal + Exponential Background Case')"
   ]
  },
  {
   "cell_type": "markdown",
   "id": "5aedaab7-f207-4081-9610-f60033069d62",
   "metadata": {},
   "source": [
    "## Model Training"
   ]
  },
  {
   "cell_type": "code",
   "execution_count": 1,
   "id": "1648e29e-1ae8-4a86-afa4-fdb6a9fd0e24",
   "metadata": {},
   "outputs": [
    {
     "name": "stderr",
     "output_type": "stream",
     "text": [
      "2024-10-06 01:44:06.060433: E external/local_xla/xla/stream_executor/cuda/cuda_dnn.cc:9261] Unable to register cuDNN factory: Attempting to register factory for plugin cuDNN when one has already been registered\n",
      "2024-10-06 01:44:06.061489: E external/local_xla/xla/stream_executor/cuda/cuda_fft.cc:607] Unable to register cuFFT factory: Attempting to register factory for plugin cuFFT when one has already been registered\n",
      "2024-10-06 01:44:06.155935: E external/local_xla/xla/stream_executor/cuda/cuda_blas.cc:1515] Unable to register cuBLAS factory: Attempting to register factory for plugin cuBLAS when one has already been registered\n",
      "2024-10-06 01:44:06.401773: I tensorflow/core/platform/cpu_feature_guard.cc:182] This TensorFlow binary is optimized to use available CPU instructions in performance-critical operations.\n",
      "To enable the following instructions: AVX2 FMA, in other operations, rebuild TensorFlow with the appropriate compiler flags.\n",
      "2024-10-06 01:44:08.707442: W tensorflow/compiler/tf2tensorrt/utils/py_utils.cc:38] TF-TRT Warning: Could not find TensorRT\n"
     ]
    }
   ],
   "source": [
    "import numpy as np\n",
    "import tensorflow as tf\n",
    "from sklearn.model_selection import train_test_split\n",
    "from scipy.stats import multivariate_normal, expon\n",
    "import matplotlib.pyplot as plt\n",
    "\n",
    "seed = 2024\n",
    "\n",
    "# Signal (S): 2D Gaussian with slight correlation\n",
    "mu_S = [3, 3]\n",
    "cov_S = np.array([[1.0, 0.5], [0.5, 1.0]])  # Slight correlation\n",
    "N_S = 100_000  # 100k signals\n",
    "\n",
    "# Background (B): 2D Exponential, no correlation\n",
    "scale_B = (10 - 1) / np.log(10)\n",
    "N_B = 1_000_000  # 1M backgrounds\n",
    "\n",
    "# Generate the signal and background samples\n",
    "signal_data = multivariate_normal(mean=mu_S, cov=cov_S).rvs(size=N_S)\n",
    "background_data = expon(scale=scale_B).rvs(size=(N_B, 2))\n",
    "\n",
    "signal_labels = np.ones(N_S)  \n",
    "background_labels = np.zeros(N_B) \n",
    "\n",
    "X = np.concatenate([signal_data, background_data], axis=0)\n",
    "y = np.concatenate([signal_labels, background_labels], axis=0)\n",
    "\n",
    "# 2. Split into train, validation, and test datasets (50%, 25%, 25%)\n",
    "X_train, X_temp, y_train, y_temp = train_test_split(X, y, test_size=0.5, random_state=seed)\n",
    "X_val, X_test, y_val, y_test = train_test_split(X_temp, y_temp, test_size=0.5, random_state=seed)"
   ]
  },
  {
   "cell_type": "code",
   "execution_count": 2,
   "id": "a7766043-5b77-44bd-99e8-f3e91b310caa",
   "metadata": {},
   "outputs": [
    {
     "name": "stderr",
     "output_type": "stream",
     "text": [
      "2024-10-06 01:44:14.662553: W tensorflow/core/common_runtime/gpu/gpu_device.cc:2256] Cannot dlopen some GPU libraries. Please make sure the missing libraries mentioned above are installed properly if you would like to use GPU. Follow the guide at https://www.tensorflow.org/install/gpu for how to download and setup the required libraries for your platform.\n",
      "Skipping registering GPU devices...\n"
     ]
    }
   ],
   "source": [
    "model = tf.keras.Sequential([\n",
    "    tf.keras.layers.Dense(64, activation='relu', input_shape=(2,)),\n",
    "    tf.keras.layers.Dense(32, activation='relu'),\n",
    "    tf.keras.layers.Dense(1, activation='sigmoid') \n",
    "])\n",
    "\n",
    "model.compile(optimizer='adam', loss='binary_crossentropy', metrics=['accuracy'])\n",
    "\n",
    "early_stopping = tf.keras.callbacks.EarlyStopping(\n",
    "    monitor='val_loss',  \n",
    "    patience=10,        \n",
    "    restore_best_weights=True\n",
    ")"
   ]
  },
  {
   "cell_type": "code",
   "execution_count": 3,
   "id": "3f7d7c61-4655-4daa-9645-e3a2ae4a9b59",
   "metadata": {
    "scrolled": true
   },
   "outputs": [
    {
     "name": "stdout",
     "output_type": "stream",
     "text": [
      "Epoch 1/100\n",
      "4297/4297 [==============================] - 5s 998us/step - loss: 0.1948 - accuracy: 0.9097 - val_loss: 0.1813 - val_accuracy: 0.9131\n",
      "Epoch 2/100\n",
      "4297/4297 [==============================] - 4s 954us/step - loss: 0.1826 - accuracy: 0.9123 - val_loss: 0.1815 - val_accuracy: 0.9134\n",
      "Epoch 3/100\n",
      "4297/4297 [==============================] - 4s 920us/step - loss: 0.1822 - accuracy: 0.9127 - val_loss: 0.1815 - val_accuracy: 0.9131\n",
      "Epoch 4/100\n",
      "4297/4297 [==============================] - 4s 888us/step - loss: 0.1820 - accuracy: 0.9129 - val_loss: 0.1807 - val_accuracy: 0.9134\n",
      "Epoch 5/100\n",
      "4297/4297 [==============================] - 4s 928us/step - loss: 0.1818 - accuracy: 0.9129 - val_loss: 0.1812 - val_accuracy: 0.9135\n",
      "Epoch 6/100\n",
      "4297/4297 [==============================] - 4s 914us/step - loss: 0.1818 - accuracy: 0.9128 - val_loss: 0.1807 - val_accuracy: 0.9130\n",
      "Epoch 7/100\n",
      "4297/4297 [==============================] - 4s 923us/step - loss: 0.1817 - accuracy: 0.9129 - val_loss: 0.1809 - val_accuracy: 0.9135\n",
      "Epoch 8/100\n",
      "4297/4297 [==============================] - 4s 914us/step - loss: 0.1818 - accuracy: 0.9128 - val_loss: 0.1806 - val_accuracy: 0.9134\n",
      "Epoch 9/100\n",
      "4297/4297 [==============================] - 4s 934us/step - loss: 0.1817 - accuracy: 0.9127 - val_loss: 0.1807 - val_accuracy: 0.9135\n",
      "Epoch 10/100\n",
      "4297/4297 [==============================] - 4s 934us/step - loss: 0.1817 - accuracy: 0.9126 - val_loss: 0.1815 - val_accuracy: 0.9131\n",
      "Epoch 11/100\n",
      "4297/4297 [==============================] - 4s 902us/step - loss: 0.1816 - accuracy: 0.9129 - val_loss: 0.1807 - val_accuracy: 0.9133\n",
      "Epoch 12/100\n",
      "4297/4297 [==============================] - 4s 936us/step - loss: 0.1817 - accuracy: 0.9127 - val_loss: 0.1807 - val_accuracy: 0.9136\n",
      "Epoch 13/100\n",
      "4297/4297 [==============================] - 4s 927us/step - loss: 0.1816 - accuracy: 0.9127 - val_loss: 0.1804 - val_accuracy: 0.9134\n",
      "Epoch 14/100\n",
      "4297/4297 [==============================] - 4s 960us/step - loss: 0.1816 - accuracy: 0.9129 - val_loss: 0.1809 - val_accuracy: 0.9129\n",
      "Epoch 15/100\n",
      "4297/4297 [==============================] - 4s 974us/step - loss: 0.1816 - accuracy: 0.9128 - val_loss: 0.1804 - val_accuracy: 0.9133\n",
      "Epoch 16/100\n",
      "4297/4297 [==============================] - 4s 967us/step - loss: 0.1816 - accuracy: 0.9128 - val_loss: 0.1810 - val_accuracy: 0.9132\n",
      "Epoch 17/100\n",
      "4297/4297 [==============================] - 4s 960us/step - loss: 0.1816 - accuracy: 0.9127 - val_loss: 0.1805 - val_accuracy: 0.9134\n",
      "Epoch 18/100\n",
      "4297/4297 [==============================] - 4s 962us/step - loss: 0.1815 - accuracy: 0.9127 - val_loss: 0.1814 - val_accuracy: 0.9132\n",
      "Epoch 19/100\n",
      "4297/4297 [==============================] - 4s 989us/step - loss: 0.1815 - accuracy: 0.9129 - val_loss: 0.1810 - val_accuracy: 0.9132\n",
      "Epoch 20/100\n",
      "4297/4297 [==============================] - 4s 946us/step - loss: 0.1815 - accuracy: 0.9128 - val_loss: 0.1816 - val_accuracy: 0.9133\n",
      "Epoch 21/100\n",
      "4297/4297 [==============================] - 4s 940us/step - loss: 0.1815 - accuracy: 0.9129 - val_loss: 0.1808 - val_accuracy: 0.9134\n",
      "Epoch 22/100\n",
      "4297/4297 [==============================] - 4s 967us/step - loss: 0.1815 - accuracy: 0.9128 - val_loss: 0.1808 - val_accuracy: 0.9133\n",
      "Epoch 23/100\n",
      "4297/4297 [==============================] - 4s 971us/step - loss: 0.1815 - accuracy: 0.9130 - val_loss: 0.1805 - val_accuracy: 0.9134\n"
     ]
    }
   ],
   "source": [
    "history = model.fit(\n",
    "    X_train, y_train,\n",
    "    validation_data=(X_val, y_val),\n",
    "    epochs=100,  # Set a large number of epochs, early stopping will handle when to stop\n",
    "    batch_size=128,\n",
    "    callbacks=[early_stopping]\n",
    ")"
   ]
  },
  {
   "cell_type": "code",
   "execution_count": 4,
   "id": "cf6c2751-45de-4460-82ae-2794ae04b055",
   "metadata": {},
   "outputs": [
    {
     "name": "stdout",
     "output_type": "stream",
     "text": [
      "8594/8594 [==============================] - 5s 538us/step - loss: 0.1811 - accuracy: 0.9131\n",
      "Test Accuracy: 91.31%\n"
     ]
    }
   ],
   "source": [
    "test_loss, test_acc = model.evaluate(X_test, y_test)\n",
    "print(f\"Test Accuracy: {test_acc * 100:.2f}%\")"
   ]
  },
  {
   "cell_type": "code",
   "execution_count": 5,
   "id": "75e53bc6-8899-4f45-a0a0-51c3ca2dbfd4",
   "metadata": {},
   "outputs": [
    {
     "data": {
      "image/png": "[encoded data removed]",
      "text/plain": [
       "<Figure size 640x480 with 1 Axes>"
      ]
     },
     "metadata": {},
     "output_type": "display_data"
    }
   ],
   "source": [
    "plt.plot(history.history['loss'], label='Train Loss')\n",
    "plt.plot(history.history['val_loss'], label='Validation Loss')\n",
    "plt.xlabel('Epochs')\n",
    "plt.ylabel('Loss')\n",
    "plt.legend()\n",
    "plt.title('Training and Validation Loss')\n",
    "plt.show()"
   ]
  },
  {
   "cell_type": "code",
   "execution_count": 6,
   "id": "552d7956-5a74-4f32-872e-ed9dc7a54b7a",
   "metadata": {},
   "outputs": [],
   "source": [
    "# Craete weakly datasets\n",
    "\n",
    "S_test = X_test[y_test == 1]\n",
    "B_test = X_test[y_test == 0] \n",
    "\n",
    "mu = 0.1\n",
    "N_B = 100_000\n",
    "N_S = int(mu / (1 - mu) * N_B)\n",
    "\n",
    "D = np.concatenate([S_test[:N_S], B_test[:N_B]], axis=0)\n",
    "R = B_test[N_B : 2 * N_B]"
   ]
  },
  {
   "cell_type": "code",
   "execution_count": 7,
   "id": "fe487ca4-5cd7-4725-b7c1-26ad794f0656",
   "metadata": {},
   "outputs": [
    {
     "data": {
      "text/plain": [
       "Text(0.5, 0, 'x')"
      ]
     },
     "execution_count": 7,
     "metadata": {},
     "output_type": "execute_result"
    },
    {
     "data": {
      "image/png": "[encoded data removed]",
      "text/plain": [
       "<Figure size 640x480 with 1 Axes>"
      ]
     },
     "metadata": {},
     "output_type": "display_data"
    }
   ],
   "source": [
    "plt.hist(R[:, 0], alpha=0.5, range=(0, 20), bins=40, label='Reference')\n",
    "plt.hist(D[:, 0], alpha=0.5, range=(0, 20), bins=40, label='Data')\n",
    "plt.legend()\n",
    "plt.xlabel('x')"
   ]
  },
  {
   "cell_type": "markdown",
   "id": "13e04204-40f4-47a7-b847-5b6522119119",
   "metadata": {},
   "source": [
    "Likelihood ratio from supervised model"
   ]
  },
  {
   "cell_type": "code",
   "execution_count": 14,
   "id": "102e5801-ccfb-4138-ad03-e970a61e3fe2",
   "metadata": {},
   "outputs": [
    {
     "name": "stdout",
     "output_type": "stream",
     "text": [
      "3125/3125 [==============================] - 2s 493us/step\n"
     ]
    }
   ],
   "source": [
    "# supervised output\n",
    "FS_ref = model.predict(R).flatten()\n",
    "kappa = 1 / np.mean(FS_ref / (1 - FS_ref))\n",
    "likelihood = kappa * (FS_ref / (1 - FS_ref))"
   ]
  },
  {
   "cell_type": "markdown",
   "id": "bf714ad4-7be7-4337-9207-92940bf1c709",
   "metadata": {},
   "source": [
    "Likelihood ratio ($p_S / p_B$) from analytic formula"
   ]
  },
  {
   "cell_type": "code",
   "execution_count": 15,
   "id": "9a59ca75-8ee9-4df4-8c43-e0dd673e66fc",
   "metadata": {},
   "outputs": [],
   "source": [
    "# calculate the analytic pS/pB\n",
    "\n",
    "mu_S = [3, 3]\n",
    "cov_S = np.array([[1.0, 0.5], [0.5, 1.0]])  \n",
    "model_S = multivariate_normal(mean=mu_S, cov=cov_S)\n",
    "\n",
    "scale_B = (10 - 1) / np.log(10) \n",
    "model_B = expon(scale=scale_B)\n",
    "\n",
    "pS = model_S.pdf(R)\n",
    "pB_x1 = model_B.pdf(R[:, 0])\n",
    "pB_x2 = model_B.pdf(R[:, 1])\n",
    "pB = pB_x1 * pB_x2\n",
    "\n",
    "# analytic\n",
    "pS_over_pB = pS / pB"
   ]
  },
  {
   "cell_type": "markdown",
   "id": "1a8f9104-0097-4faf-9fb7-a5954c57d853",
   "metadata": {},
   "source": [
    "Checking normalization of pS/pB from ML model"
   ]
  },
  {
   "cell_type": "code",
   "execution_count": 16,
   "id": "256c96e5-8851-4345-abf3-d7ff29dc2819",
   "metadata": {},
   "outputs": [
    {
     "name": "stdout",
     "output_type": "stream",
     "text": [
      "N_ref: 100000, integral of pS/pB : 100597.87399038428\n"
     ]
    }
   ],
   "source": [
    "print(f'N_ref: {R.shape[0]}, integral of pS/pB : {pS_over_pB.sum()}')"
   ]
  },
  {
   "cell_type": "code",
   "execution_count": 17,
   "id": "c507e6b1-79d6-435f-b37f-b17957294d79",
   "metadata": {},
   "outputs": [
    {
     "name": "stdout",
     "output_type": "stream",
     "text": [
      "N_ref: 100000, integral of likelihood from ML model : 99999.9921875\n"
     ]
    }
   ],
   "source": [
    "print(f'N_ref: {R.shape[0]}, integral of likelihood from ML model : {likelihood.sum()}')"
   ]
  },
  {
   "cell_type": "code",
   "execution_count": 20,
   "id": "b16af892-61b6-452b-8a48-ce5c6be91709",
   "metadata": {
    "scrolled": true
   },
   "outputs": [
    {
     "name": "stderr",
     "output_type": "stream",
     "text": [
      "/tmp/ipykernel_210780/3257572001.py:2: RuntimeWarning: divide by zero encountered in divide\n",
      "  ratio = pS_over_pB / likelihood\n",
      "/tmp/ipykernel_210780/3257572001.py:2: RuntimeWarning: invalid value encountered in divide\n",
      "  ratio = pS_over_pB / likelihood\n"
     ]
    }
   ],
   "source": [
    "# Now compare term by term\n",
    "ratio = pS_over_pB / likelihood\n",
    "ratio = ratio[np.isfinite(ratio)]"
   ]
  },
  {
   "cell_type": "code",
   "execution_count": 21,
   "id": "0660582c-4cf8-42a0-911a-9a677c4175c0",
   "metadata": {},
   "outputs": [
    {
     "data": {
      "text/plain": [
       "Text(0, 0.5, 'count')"
      ]
     },
     "execution_count": 21,
     "metadata": {},
     "output_type": "execute_result"
    },
    {
     "data": {
      "image/png": "[encoded data removed]",
      "text/plain": [
       "<Figure size 640x480 with 1 Axes>"
      ]
     },
     "metadata": {},
     "output_type": "display_data"
    }
   ],
   "source": [
    "plt.hist(ratio, bins=20)\n",
    "plt.xlabel('analytic / model ')\n",
    "plt.ylabel('count')"
   ]
  },
  {
   "cell_type": "markdown",
   "id": "8fb9311d-ab45-417a-9c06-819f8ab4662b",
   "metadata": {},
   "source": [
    "### Reweight reference distribution to data distribution"
   ]
  },
  {
   "cell_type": "code",
   "execution_count": 22,
   "id": "8fa5af69-b1d8-450d-b9ce-df247158e0ec",
   "metadata": {},
   "outputs": [],
   "source": [
    "WS_analytic = (mu * pS_over_pB + 1 - mu)  / (mu * pS_over_pB + 2 - 2 * mu)\n",
    "WS_model = (mu * likelihood + 1 - mu)  / (mu * likelihood + 2 - 2 * mu)"
   ]
  },
  {
   "cell_type": "code",
   "execution_count": 23,
   "id": "ecee69ec-5656-496e-beb5-0236824a671b",
   "metadata": {},
   "outputs": [],
   "source": [
    "rw_analytic = WS_analytic / (1 - WS_analytic)\n",
    "rw_model = WS_model / (1 - WS_model)"
   ]
  },
  {
   "cell_type": "code",
   "execution_count": 24,
   "id": "e6232e22-3b30-4d04-bd84-ed9f4dc806f4",
   "metadata": {},
   "outputs": [
    {
     "data": {
      "text/plain": [
       "Text(0, 0.5, 'Fraction of Events')"
      ]
     },
     "execution_count": 24,
     "metadata": {},
     "output_type": "execute_result"
    },
    {
     "data": {
      "image/png": "[encoded data removed]",
      "text/plain": [
       "<Figure size 640x480 with 1 Axes>"
      ]
     },
     "metadata": {},
     "output_type": "display_data"
    }
   ],
   "source": [
    "plt.hist(D[:, 0], bins=40, range=(0, 20), alpha=0.6, label='Data', histtype='step', density=True)\n",
    "plt.hist(R[:, 0], weights=rw_analytic, bins=40, range=(0, 20), alpha=0.6, label='Reference Reweight from Analytic', histtype='step', density=True)\n",
    "plt.hist(R[:, 0], weights=rw_model, bins=40, range=(0, 20), alpha=0.6, label='Reference Reweight from Model', histtype='step', density=True)\n",
    "plt.hist(R[:, 0], bins=40, range=(0, 20), alpha=0.6, label='Reference', histtype='step', color='r', density=True)\n",
    "plt.legend()\n",
    "plt.xlabel('x')\n",
    "plt.ylabel('Fraction of Events')"
   ]
  },
  {
   "cell_type": "markdown",
   "id": "6c4f67fd-0690-4242-9236-29a253685017",
   "metadata": {},
   "source": [
    "### Train for mu"
   ]
  },
  {
   "cell_type": "code",
   "execution_count": 25,
   "id": "fb4555cf-e163-4b17-a5cf-e82ffb16d4e7",
   "metadata": {},
   "outputs": [],
   "source": [
    "import tensorflow as tf\n",
    "from tensorflow.keras import Input, Model\n",
    "from tensorflow.keras.layers import Dense\n",
    "\n",
    "class MinMaxRegularizer(tf.keras.regularizers.Regularizer):\n",
    "  def __init__(self, min_val, max_val, l=1.0):\n",
    "      self.min_val = min_val\n",
    "      self.max_val = max_val\n",
    "      self.l = l\n",
    "\n",
    "  def __call__(self, x):\n",
    "      x_under = tf.cast(tf.less(x, self.min_val), dtype=tf.float32)\n",
    "      x_over  = tf.cast(tf.greater(x, self.max_val), dtype=tf.float32)\n",
    "      under_penalty = (tf.exp(self.min_val - x) - 1)\n",
    "      over_penalty = (tf.exp(x - self.max_val) - 1)\n",
    "      penalty = self.l * tf.math.reduce_sum(((x_under * under_penalty) + (x_over * over_penalty)))\n",
    "      return penalty\n",
    "\n",
    "  def get_config(self):\n",
    "      return {'l': float(self.l),\n",
    "              'min_val': float(self.min_val),\n",
    "              'max_val': float(self.max_val)}\n",
    "\n",
    "def get_single_parameter_model(default,\n",
    "                               name = None,\n",
    "                               exponential=False,\n",
    "                               regularizer=None):\n",
    "    inputs = Input(shape=(1,))\n",
    "    outputs = Dense(1, use_bias=False,\n",
    "                    kernel_initializer=tf.constant_initializer(float(default)),\n",
    "                    kernel_regularizer=regularizer,\n",
    "                    activation='linear',\n",
    "                    name=name)(inputs)\n",
    "    if exponential:\n",
    "        outputs = tf.exp(outputs)\n",
    "    return Model(inputs=inputs, outputs=outputs)\n",
    "\n",
    "def create_ws_model(fs_model, feature_dim, kappa=1.0):\n",
    "    x = Input(shape=(feature_dim,))\n",
    "    fs_out = fs_model(x)\n",
    "    mu_input = get_single_parameter_model(-4., name='mu',\n",
    "                                          exponential=True,\n",
    "                                          regularizer=MinMaxRegularizer(-10.0, 0.0),)\n",
    "    mu_out = mu_input(tf.ones_like(x)[:, :1])\n",
    "    LLR = fs_out / (1 - fs_out + 1e-5)\n",
    "    if kappa == 'trainable':\n",
    "        kappa_input = get_single_parameter_model(5., name='kappa',\n",
    "                                                 exponential=False,\n",
    "                                                 regularizer=MinMaxRegularizer(1, 30))\n",
    "        kappa = kappa_input(tf.ones_like(x)[:, :1])\n",
    "    LLR_xs = 1. + mu_out * (LLR * kappa - 1.)\n",
    "    ws_out = LLR_xs / (LLR_xs + 1 - mu_out )\n",
    "    ws_model = tf.keras.Model(inputs=x, outputs=ws_out, name='SemiWeakly')\n",
    "    return ws_model"
   ]
  },
  {
   "cell_type": "code",
   "execution_count": 26,
   "id": "5d91eb65-99af-4cee-980c-970b57fd0ce6",
   "metadata": {},
   "outputs": [],
   "source": [
    "# Craete weakly datasets\n",
    "\n",
    "S_test = X_test[y_test == 1]\n",
    "B_test = X_test[y_test == 0]\n",
    "\n",
    "N_B = 100000\n",
    "mu = 0.01\n",
    "N_S = int(mu / (1 - mu) * N_B)\n",
    "\n",
    "D = np.concatenate([S_test[:N_S], B_test[:N_B]], axis=0)\n",
    "R = B_test[N_B : 2 * N_B]\n",
    "\n",
    "X = np.concatenate([D, R])\n",
    "Y = np.concatenate([np.ones(D.shape[0]), np.zeros(R.shape[0])])\n",
    "\n",
    "x_train, x_val, y_train, y_val = train_test_split(X, Y, test_size=0.5, random_state=2024)"
   ]
  },
  {
   "cell_type": "code",
   "execution_count": 28,
   "id": "62be0369-472c-47c4-b330-dd1dfc29434e",
   "metadata": {},
   "outputs": [],
   "source": [
    "for layer in model.layers:\n",
    "    layer.trainable = False"
   ]
  },
  {
   "cell_type": "code",
   "execution_count": 31,
   "id": "44cb58a7-e6cd-450b-8a05-0c5252f22958",
   "metadata": {
    "scrolled": true
   },
   "outputs": [],
   "source": [
    "ws_model = create_ws_model(model, feature_dim=2, kappa=kappa)\n",
    "ws_model.compile(optimizer='adam', loss='binary_crossentropy', metrics=['accuracy'])"
   ]
  },
  {
   "cell_type": "code",
   "execution_count": 32,
   "id": "71bfcea9-1e7f-48b2-b703-121203fea1f6",
   "metadata": {
    "scrolled": true
   },
   "outputs": [
    {
     "name": "stdout",
     "output_type": "stream",
     "text": [
      "Epoch 1/1000\n",
      "99/99 [==============================] - 1s 3ms/step - loss: 0.6931 - accuracy: 0.5015 - val_loss: 0.6932 - val_accuracy: 0.5022\n",
      "Epoch 2/1000\n",
      "99/99 [==============================] - 0s 2ms/step - loss: 0.6931 - accuracy: 0.5011 - val_loss: 0.6932 - val_accuracy: 0.5022\n",
      "Epoch 3/1000\n",
      "99/99 [==============================] - 0s 2ms/step - loss: 0.6931 - accuracy: 0.5014 - val_loss: 0.6932 - val_accuracy: 0.5015\n",
      "Epoch 4/1000\n",
      "99/99 [==============================] - 0s 2ms/step - loss: 0.6931 - accuracy: 0.4999 - val_loss: 0.6931 - val_accuracy: 0.5017\n",
      "Epoch 5/1000\n",
      "99/99 [==============================] - 0s 2ms/step - loss: 0.6931 - accuracy: 0.5020 - val_loss: 0.6931 - val_accuracy: 0.5013\n",
      "Epoch 6/1000\n",
      "99/99 [==============================] - 0s 2ms/step - loss: 0.6931 - accuracy: 0.5021 - val_loss: 0.6931 - val_accuracy: 0.5022\n",
      "Epoch 7/1000\n",
      "99/99 [==============================] - 0s 2ms/step - loss: 0.6931 - accuracy: 0.5017 - val_loss: 0.6931 - val_accuracy: 0.5021\n",
      "Epoch 8/1000\n",
      "99/99 [==============================] - 0s 2ms/step - loss: 0.6931 - accuracy: 0.5016 - val_loss: 0.6931 - val_accuracy: 0.5020\n",
      "Epoch 9/1000\n",
      "99/99 [==============================] - 0s 2ms/step - loss: 0.6931 - accuracy: 0.5019 - val_loss: 0.6931 - val_accuracy: 0.5021\n",
      "Epoch 10/1000\n",
      "99/99 [==============================] - 0s 2ms/step - loss: 0.6931 - accuracy: 0.5011 - val_loss: 0.6931 - val_accuracy: 0.5021\n",
      "Epoch 11/1000\n",
      "99/99 [==============================] - 0s 2ms/step - loss: 0.6931 - accuracy: 0.5007 - val_loss: 0.6931 - val_accuracy: 0.5021\n",
      "Epoch 12/1000\n",
      "99/99 [==============================] - 0s 2ms/step - loss: 0.6931 - accuracy: 0.5016 - val_loss: 0.6931 - val_accuracy: 0.5015\n",
      "Epoch 13/1000\n",
      "99/99 [==============================] - 0s 2ms/step - loss: 0.6931 - accuracy: 0.5017 - val_loss: 0.6931 - val_accuracy: 0.5015\n",
      "Epoch 14/1000\n",
      "99/99 [==============================] - 0s 2ms/step - loss: 0.6931 - accuracy: 0.5016 - val_loss: 0.6931 - val_accuracy: 0.5015\n",
      "Epoch 15/1000\n",
      "99/99 [==============================] - 0s 2ms/step - loss: 0.6931 - accuracy: 0.5019 - val_loss: 0.6931 - val_accuracy: 0.5022\n",
      "Epoch 16/1000\n",
      "99/99 [==============================] - 0s 2ms/step - loss: 0.6931 - accuracy: 0.5000 - val_loss: 0.6931 - val_accuracy: 0.5021\n",
      "Epoch 17/1000\n",
      "99/99 [==============================] - 0s 2ms/step - loss: 0.6931 - accuracy: 0.5007 - val_loss: 0.6931 - val_accuracy: 0.5013\n",
      "Epoch 18/1000\n",
      "99/99 [==============================] - 0s 2ms/step - loss: 0.6931 - accuracy: 0.5005 - val_loss: 0.6931 - val_accuracy: 0.5015\n",
      "Epoch 19/1000\n",
      "99/99 [==============================] - 0s 2ms/step - loss: 0.6931 - accuracy: 0.5016 - val_loss: 0.6931 - val_accuracy: 0.5022\n",
      "Epoch 20/1000\n",
      "99/99 [==============================] - 0s 2ms/step - loss: 0.6931 - accuracy: 0.5017 - val_loss: 0.6931 - val_accuracy: 0.5022\n",
      "Epoch 21/1000\n",
      "99/99 [==============================] - 0s 2ms/step - loss: 0.6931 - accuracy: 0.5011 - val_loss: 0.6931 - val_accuracy: 0.5014\n",
      "Epoch 22/1000\n",
      "99/99 [==============================] - 0s 2ms/step - loss: 0.6931 - accuracy: 0.5013 - val_loss: 0.6931 - val_accuracy: 0.5021\n",
      "Epoch 23/1000\n",
      "99/99 [==============================] - 0s 2ms/step - loss: 0.6931 - accuracy: 0.5013 - val_loss: 0.6931 - val_accuracy: 0.5021\n",
      "Epoch 24/1000\n",
      "99/99 [==============================] - 0s 2ms/step - loss: 0.6931 - accuracy: 0.5014 - val_loss: 0.6931 - val_accuracy: 0.5015\n",
      "Epoch 25/1000\n",
      "99/99 [==============================] - 0s 2ms/step - loss: 0.6931 - accuracy: 0.5011 - val_loss: 0.6931 - val_accuracy: 0.5021\n",
      "Epoch 26/1000\n",
      "99/99 [==============================] - 0s 2ms/step - loss: 0.6931 - accuracy: 0.5004 - val_loss: 0.6931 - val_accuracy: 0.5016\n",
      "Epoch 27/1000\n",
      "99/99 [==============================] - 0s 2ms/step - loss: 0.6931 - accuracy: 0.5009 - val_loss: 0.6931 - val_accuracy: 0.5015\n",
      "Epoch 28/1000\n",
      "99/99 [==============================] - 0s 2ms/step - loss: 0.6931 - accuracy: 0.5014 - val_loss: 0.6931 - val_accuracy: 0.5019\n",
      "Epoch 29/1000\n",
      "99/99 [==============================] - 0s 2ms/step - loss: 0.6931 - accuracy: 0.5008 - val_loss: 0.6931 - val_accuracy: 0.5023\n",
      "Epoch 30/1000\n",
      "99/99 [==============================] - 0s 2ms/step - loss: 0.6931 - accuracy: 0.5014 - val_loss: 0.6931 - val_accuracy: 0.5021\n",
      "Epoch 31/1000\n",
      "99/99 [==============================] - 0s 2ms/step - loss: 0.6931 - accuracy: 0.5012 - val_loss: 0.6931 - val_accuracy: 0.5023\n",
      "Epoch 32/1000\n",
      "99/99 [==============================] - 0s 2ms/step - loss: 0.6931 - accuracy: 0.5016 - val_loss: 0.6931 - val_accuracy: 0.5018\n",
      "Epoch 33/1000\n",
      "99/99 [==============================] - 0s 2ms/step - loss: 0.6931 - accuracy: 0.5009 - val_loss: 0.6931 - val_accuracy: 0.5014\n",
      "Epoch 34/1000\n",
      "99/99 [==============================] - 0s 2ms/step - loss: 0.6931 - accuracy: 0.5005 - val_loss: 0.6931 - val_accuracy: 0.5022\n",
      "Epoch 35/1000\n",
      "99/99 [==============================] - 0s 2ms/step - loss: 0.6931 - accuracy: 0.5007 - val_loss: 0.6931 - val_accuracy: 0.5015\n",
      "Epoch 36/1000\n",
      "99/99 [==============================] - 0s 2ms/step - loss: 0.6931 - accuracy: 0.5014 - val_loss: 0.6931 - val_accuracy: 0.5014\n",
      "Epoch 37/1000\n",
      "99/99 [==============================] - 0s 2ms/step - loss: 0.6931 - accuracy: 0.5004 - val_loss: 0.6931 - val_accuracy: 0.5022\n",
      "Epoch 38/1000\n",
      "99/99 [==============================] - 0s 2ms/step - loss: 0.6931 - accuracy: 0.5013 - val_loss: 0.6931 - val_accuracy: 0.5022\n",
      "Epoch 39/1000\n",
      "99/99 [==============================] - 0s 3ms/step - loss: 0.6931 - accuracy: 0.5005 - val_loss: 0.6931 - val_accuracy: 0.5021\n",
      "Epoch 40/1000\n",
      "99/99 [==============================] - 0s 2ms/step - loss: 0.6931 - accuracy: 0.5007 - val_loss: 0.6931 - val_accuracy: 0.5018\n",
      "Epoch 41/1000\n",
      "99/99 [==============================] - 0s 2ms/step - loss: 0.6931 - accuracy: 0.5027 - val_loss: 0.6931 - val_accuracy: 0.5021\n",
      "Epoch 42/1000\n",
      "99/99 [==============================] - 0s 2ms/step - loss: 0.6931 - accuracy: 0.5004 - val_loss: 0.6931 - val_accuracy: 0.5022\n",
      "Epoch 43/1000\n",
      "99/99 [==============================] - 0s 2ms/step - loss: 0.6931 - accuracy: 0.5006 - val_loss: 0.6931 - val_accuracy: 0.5015\n",
      "Epoch 44/1000\n",
      "99/99 [==============================] - 0s 2ms/step - loss: 0.6931 - accuracy: 0.5009 - val_loss: 0.6931 - val_accuracy: 0.5022\n",
      "Epoch 45/1000\n",
      "99/99 [==============================] - 0s 2ms/step - loss: 0.6931 - accuracy: 0.5006 - val_loss: 0.6931 - val_accuracy: 0.5015\n",
      "Epoch 46/1000\n",
      "99/99 [==============================] - 0s 2ms/step - loss: 0.6931 - accuracy: 0.5013 - val_loss: 0.6931 - val_accuracy: 0.5015\n",
      "Epoch 47/1000\n",
      "99/99 [==============================] - 0s 2ms/step - loss: 0.6931 - accuracy: 0.5018 - val_loss: 0.6931 - val_accuracy: 0.5018\n",
      "Epoch 48/1000\n",
      "99/99 [==============================] - 0s 2ms/step - loss: 0.6931 - accuracy: 0.5013 - val_loss: 0.6931 - val_accuracy: 0.5021\n",
      "Epoch 49/1000\n",
      "99/99 [==============================] - 0s 2ms/step - loss: 0.6931 - accuracy: 0.5011 - val_loss: 0.6931 - val_accuracy: 0.5022\n",
      "Epoch 50/1000\n",
      "99/99 [==============================] - 0s 2ms/step - loss: 0.6931 - accuracy: 0.5009 - val_loss: 0.6931 - val_accuracy: 0.5013\n",
      "Epoch 51/1000\n",
      "99/99 [==============================] - 0s 2ms/step - loss: 0.6931 - accuracy: 0.5012 - val_loss: 0.6931 - val_accuracy: 0.5022\n",
      "Epoch 52/1000\n",
      "99/99 [==============================] - 0s 2ms/step - loss: 0.6931 - accuracy: 0.5011 - val_loss: 0.6931 - val_accuracy: 0.5014\n",
      "Epoch 53/1000\n",
      "99/99 [==============================] - 0s 2ms/step - loss: 0.6931 - accuracy: 0.5004 - val_loss: 0.6931 - val_accuracy: 0.5022\n",
      "Epoch 54/1000\n",
      "99/99 [==============================] - 0s 2ms/step - loss: 0.6931 - accuracy: 0.5004 - val_loss: 0.6931 - val_accuracy: 0.5017\n",
      "Epoch 55/1000\n",
      "99/99 [==============================] - 0s 2ms/step - loss: 0.6931 - accuracy: 0.5007 - val_loss: 0.6931 - val_accuracy: 0.5022\n",
      "Epoch 56/1000\n",
      "99/99 [==============================] - 0s 2ms/step - loss: 0.6931 - accuracy: 0.5012 - val_loss: 0.6931 - val_accuracy: 0.5015\n",
      "Epoch 57/1000\n",
      "99/99 [==============================] - 0s 2ms/step - loss: 0.6931 - accuracy: 0.5013 - val_loss: 0.6931 - val_accuracy: 0.5017\n",
      "Epoch 58/1000\n",
      "99/99 [==============================] - 0s 2ms/step - loss: 0.6931 - accuracy: 0.5001 - val_loss: 0.6931 - val_accuracy: 0.5020\n",
      "Epoch 59/1000\n",
      "99/99 [==============================] - 0s 2ms/step - loss: 0.6931 - accuracy: 0.5010 - val_loss: 0.6931 - val_accuracy: 0.5023\n",
      "Epoch 60/1000\n",
      "99/99 [==============================] - 0s 2ms/step - loss: 0.6931 - accuracy: 0.5005 - val_loss: 0.6931 - val_accuracy: 0.5015\n",
      "Epoch 61/1000\n",
      "99/99 [==============================] - 0s 2ms/step - loss: 0.6931 - accuracy: 0.5000 - val_loss: 0.6931 - val_accuracy: 0.5022\n",
      "Epoch 62/1000\n",
      "99/99 [==============================] - 0s 2ms/step - loss: 0.6931 - accuracy: 0.5017 - val_loss: 0.6931 - val_accuracy: 0.5021\n",
      "Epoch 63/1000\n",
      "99/99 [==============================] - 0s 2ms/step - loss: 0.6931 - accuracy: 0.5007 - val_loss: 0.6931 - val_accuracy: 0.5018\n",
      "Epoch 64/1000\n",
      "99/99 [==============================] - 0s 2ms/step - loss: 0.6931 - accuracy: 0.5010 - val_loss: 0.6931 - val_accuracy: 0.5022\n",
      "Epoch 65/1000\n",
      "99/99 [==============================] - 0s 2ms/step - loss: 0.6931 - accuracy: 0.5010 - val_loss: 0.6931 - val_accuracy: 0.5016\n",
      "Epoch 66/1000\n",
      "99/99 [==============================] - 0s 2ms/step - loss: 0.6931 - accuracy: 0.5008 - val_loss: 0.6931 - val_accuracy: 0.5020\n",
      "Epoch 67/1000\n",
      "99/99 [==============================] - 0s 2ms/step - loss: 0.6931 - accuracy: 0.5008 - val_loss: 0.6931 - val_accuracy: 0.5023\n",
      "Epoch 68/1000\n",
      "99/99 [==============================] - 0s 2ms/step - loss: 0.6931 - accuracy: 0.5004 - val_loss: 0.6931 - val_accuracy: 0.5014\n",
      "Epoch 69/1000\n",
      "99/99 [==============================] - 0s 2ms/step - loss: 0.6931 - accuracy: 0.5009 - val_loss: 0.6931 - val_accuracy: 0.5023\n",
      "Epoch 70/1000\n",
      "99/99 [==============================] - 0s 2ms/step - loss: 0.6931 - accuracy: 0.5010 - val_loss: 0.6931 - val_accuracy: 0.5022\n",
      "Epoch 71/1000\n",
      "99/99 [==============================] - 0s 2ms/step - loss: 0.6931 - accuracy: 0.5008 - val_loss: 0.6931 - val_accuracy: 0.5015\n",
      "Epoch 72/1000\n",
      "99/99 [==============================] - 0s 2ms/step - loss: 0.6931 - accuracy: 0.5013 - val_loss: 0.6931 - val_accuracy: 0.5015\n",
      "Epoch 73/1000\n",
      "99/99 [==============================] - 0s 2ms/step - loss: 0.6931 - accuracy: 0.5001 - val_loss: 0.6931 - val_accuracy: 0.5023\n",
      "Epoch 74/1000\n",
      "99/99 [==============================] - 0s 2ms/step - loss: 0.6931 - accuracy: 0.5010 - val_loss: 0.6931 - val_accuracy: 0.5020\n",
      "Epoch 75/1000\n",
      "99/99 [==============================] - 0s 2ms/step - loss: 0.6931 - accuracy: 0.5010 - val_loss: 0.6931 - val_accuracy: 0.5015\n",
      "Epoch 76/1000\n",
      "99/99 [==============================] - 0s 2ms/step - loss: 0.6931 - accuracy: 0.5008 - val_loss: 0.6931 - val_accuracy: 0.5022\n",
      "Epoch 77/1000\n",
      "99/99 [==============================] - 0s 2ms/step - loss: 0.6931 - accuracy: 0.5008 - val_loss: 0.6931 - val_accuracy: 0.5021\n",
      "Epoch 78/1000\n",
      "99/99 [==============================] - 0s 2ms/step - loss: 0.6931 - accuracy: 0.5013 - val_loss: 0.6931 - val_accuracy: 0.5015\n",
      "Epoch 79/1000\n",
      "99/99 [==============================] - 0s 2ms/step - loss: 0.6931 - accuracy: 0.5013 - val_loss: 0.6931 - val_accuracy: 0.5021\n",
      "Epoch 80/1000\n",
      "99/99 [==============================] - 0s 2ms/step - loss: 0.6931 - accuracy: 0.5007 - val_loss: 0.6931 - val_accuracy: 0.5015\n",
      "Epoch 81/1000\n",
      "99/99 [==============================] - 0s 2ms/step - loss: 0.6931 - accuracy: 0.5015 - val_loss: 0.6931 - val_accuracy: 0.5020\n",
      "Epoch 82/1000\n",
      "99/99 [==============================] - 0s 2ms/step - loss: 0.6931 - accuracy: 0.5002 - val_loss: 0.6931 - val_accuracy: 0.5021\n",
      "Epoch 83/1000\n",
      "99/99 [==============================] - 0s 2ms/step - loss: 0.6931 - accuracy: 0.5009 - val_loss: 0.6931 - val_accuracy: 0.5023\n",
      "Epoch 84/1000\n",
      "99/99 [==============================] - 0s 2ms/step - loss: 0.6931 - accuracy: 0.5003 - val_loss: 0.6931 - val_accuracy: 0.5015\n"
     ]
    },
    {
     "data": {
      "text/plain": [
       "<keras.src.callbacks.History at 0x7fc937555610>"
      ]
     },
     "execution_count": 32,
     "metadata": {},
     "output_type": "execute_result"
    }
   ],
   "source": [
    "early_stopping = tf.keras.callbacks.EarlyStopping(\n",
    "    monitor='val_loss',  \n",
    "    patience=10,        \n",
    "    restore_best_weights=True\n",
    ")\n",
    "\n",
    "ws_model.fit(x_train, y_train,\n",
    "             validation_data=(x_val, y_val),\n",
    "             epochs=1000,\n",
    "             batch_size=1024,\n",
    "             callbacks=[early_stopping])"
   ]
  },
  {
   "cell_type": "code",
   "execution_count": 34,
   "id": "bc5c62ca-2c6d-4c96-be0d-e4aa0a8ba30f",
   "metadata": {},
   "outputs": [
    {
     "name": "stdout",
     "output_type": "stream",
     "text": [
      "3141/3141 [==============================] - 2s 566us/step - loss: 0.6931 - accuracy: 0.5007\n"
     ]
    },
    {
     "data": {
      "text/plain": [
       "[0.6930612325668335, 0.5007014870643616]"
      ]
     },
     "execution_count": 34,
     "metadata": {},
     "output_type": "execute_result"
    }
   ],
   "source": [
    "ws_model.evaluate(x_train, y_train)"
   ]
  },
  {
   "cell_type": "code",
   "execution_count": 40,
   "id": "606379ba-6bd2-4c02-a77a-b14aa5508423",
   "metadata": {},
   "outputs": [
    {
     "name": "stdout",
     "output_type": "stream",
     "text": [
      "predicted mu: 0.010450861416757107\n",
      "truth mu: 0.01\n"
     ]
    }
   ],
   "source": [
    "weights = {}\n",
    "for weight in ws_model.trainable_weights:\n",
    "    name = weight.name.split('/')[0]\n",
    "    weights[name] = weight[0][0]\n",
    "print(f'predicted mu: {np.exp(weights[\"mu\"])}')\n",
    "print(f'truth mu: {mu}')"
   ]
  }
 ],
 "metadata": {
  "kernelspec": {
   "display_name": "Python 3 (ipykernel)",
   "language": "python",
   "name": "python3"
  },
  "language_info": {
   "codemirror_mode": {
    "name": "ipython",
    "version": 3
   },
   "file_extension": ".py",
   "mimetype": "text/x-python",
   "name": "python",
   "nbconvert_exporter": "python",
   "pygments_lexer": "ipython3",
   "version": "3.11.9"
  }
 },
 "nbformat": 4,
 "nbformat_minor": 5
}
